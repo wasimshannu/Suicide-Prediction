{
 "cells": [
  {
   "cell_type": "code",
   "execution_count": 412,
   "id": "8760f6fe",
   "metadata": {},
   "outputs": [],
   "source": [
    "import pandas as pd\n",
    "import numpy as np\n",
    "import seaborn as sns\n",
    "import matplotlib.pyplot as plt\n",
    "from scipy import stats\n",
    "#for model building\n",
    "import statsmodels.api as sm\n",
    "from sklearn.linear_model import LinearRegression\n",
    "from sklearn.linear_model import SGDRegressor\n",
    "#for feature selection\n",
    "from mlxtend.feature_selection import SequentialFeatureSelector as sfs\n",
    "#for assumption checking\n",
    "from statsmodels.stats.outliers_influence import variance_inflation_factor\n",
    "from statsmodels.graphics.gofplots import qqplot\n",
    "#for model validation\n",
    "from sklearn.metrics import mean_absolute_error,mean_absolute_percentage_error,mean_squared_error,r2_score\n",
    "#for cross validation\n",
    "from sklearn.model_selection import KFold,cross_val_score,LeaveOneOut,train_test_split\n",
    "#for hyper parameter tuning\n",
    "from sklearn.model_selection import GridSearchCV\n",
    "#for regularization\n",
    "from sklearn.linear_model import ElasticNet,Lasso,Ridge\n",
    "import warnings\n",
    "from warnings import filterwarnings\n",
    "filterwarnings(\"ignore\")"
   ]
  },
  {
   "cell_type": "code",
   "execution_count": 413,
   "id": "698c4fe8",
   "metadata": {},
   "outputs": [
    {
     "data": {
      "text/html": [
       "<div>\n",
       "<style scoped>\n",
       "    .dataframe tbody tr th:only-of-type {\n",
       "        vertical-align: middle;\n",
       "    }\n",
       "\n",
       "    .dataframe tbody tr th {\n",
       "        vertical-align: top;\n",
       "    }\n",
       "\n",
       "    .dataframe thead th {\n",
       "        text-align: right;\n",
       "    }\n",
       "</style>\n",
       "<table border=\"1\" class=\"dataframe\">\n",
       "  <thead>\n",
       "    <tr style=\"text-align: right;\">\n",
       "      <th></th>\n",
       "      <th>country</th>\n",
       "      <th>year</th>\n",
       "      <th>sex</th>\n",
       "      <th>age</th>\n",
       "      <th>suicides_no</th>\n",
       "      <th>population</th>\n",
       "      <th>suicides/100k pop</th>\n",
       "      <th>country-year</th>\n",
       "      <th>HDI for year</th>\n",
       "      <th>gdp_for_year ($)</th>\n",
       "      <th>gdp_per_capita ($)</th>\n",
       "      <th>generation</th>\n",
       "    </tr>\n",
       "  </thead>\n",
       "  <tbody>\n",
       "    <tr>\n",
       "      <th>0</th>\n",
       "      <td>Albania</td>\n",
       "      <td>1987</td>\n",
       "      <td>male</td>\n",
       "      <td>15-24 years</td>\n",
       "      <td>21</td>\n",
       "      <td>312900</td>\n",
       "      <td>6.71</td>\n",
       "      <td>Albania1987</td>\n",
       "      <td>NaN</td>\n",
       "      <td>2,15,66,24,900</td>\n",
       "      <td>796</td>\n",
       "      <td>Generation X</td>\n",
       "    </tr>\n",
       "    <tr>\n",
       "      <th>1</th>\n",
       "      <td>Albania</td>\n",
       "      <td>1987</td>\n",
       "      <td>male</td>\n",
       "      <td>35-54 years</td>\n",
       "      <td>16</td>\n",
       "      <td>308000</td>\n",
       "      <td>5.19</td>\n",
       "      <td>Albania1987</td>\n",
       "      <td>NaN</td>\n",
       "      <td>2,15,66,24,900</td>\n",
       "      <td>796</td>\n",
       "      <td>Silent</td>\n",
       "    </tr>\n",
       "    <tr>\n",
       "      <th>2</th>\n",
       "      <td>Albania</td>\n",
       "      <td>1987</td>\n",
       "      <td>female</td>\n",
       "      <td>15-24 years</td>\n",
       "      <td>14</td>\n",
       "      <td>289700</td>\n",
       "      <td>4.83</td>\n",
       "      <td>Albania1987</td>\n",
       "      <td>NaN</td>\n",
       "      <td>2,15,66,24,900</td>\n",
       "      <td>796</td>\n",
       "      <td>Generation X</td>\n",
       "    </tr>\n",
       "  </tbody>\n",
       "</table>\n",
       "</div>"
      ],
      "text/plain": [
       "   country  year     sex          age  suicides_no  population  \\\n",
       "0  Albania  1987    male  15-24 years           21      312900   \n",
       "1  Albania  1987    male  35-54 years           16      308000   \n",
       "2  Albania  1987  female  15-24 years           14      289700   \n",
       "\n",
       "   suicides/100k pop country-year  HDI for year  gdp_for_year ($)   \\\n",
       "0               6.71  Albania1987           NaN     2,15,66,24,900   \n",
       "1               5.19  Albania1987           NaN     2,15,66,24,900   \n",
       "2               4.83  Albania1987           NaN     2,15,66,24,900   \n",
       "\n",
       "   gdp_per_capita ($)    generation  \n",
       "0                 796  Generation X  \n",
       "1                 796        Silent  \n",
       "2                 796  Generation X  "
      ]
     },
     "execution_count": 413,
     "metadata": {},
     "output_type": "execute_result"
    }
   ],
   "source": [
    "df = pd.read_csv('master.csv')\n",
    "df.head(3)"
   ]
  },
  {
   "cell_type": "code",
   "execution_count": 414,
   "id": "9ccac959",
   "metadata": {},
   "outputs": [
    {
     "data": {
      "text/plain": [
       "Index(['country', 'year', 'sex', 'age', 'suicides_no', 'population',\n",
       "       'suicides/100k pop', 'country-year', 'HDI for year',\n",
       "       ' gdp_for_year ($) ', 'gdp_per_capita ($)', 'generation'],\n",
       "      dtype='object')"
      ]
     },
     "execution_count": 414,
     "metadata": {},
     "output_type": "execute_result"
    }
   ],
   "source": [
    "df.columns"
   ]
  },
  {
   "cell_type": "code",
   "execution_count": 415,
   "id": "e0df8381",
   "metadata": {},
   "outputs": [
    {
     "data": {
      "text/plain": [
       "(27820, 12)"
      ]
     },
     "execution_count": 415,
     "metadata": {},
     "output_type": "execute_result"
    }
   ],
   "source": [
    "df.shape\n",
    "# the data set has 27820 rows and 12 columns"
   ]
  },
  {
   "cell_type": "code",
   "execution_count": 416,
   "id": "f8d48219",
   "metadata": {
    "scrolled": true
   },
   "outputs": [
    {
     "data": {
      "text/plain": [
       "country                object\n",
       "year                    int64\n",
       "sex                    object\n",
       "age                    object\n",
       "suicides_no             int64\n",
       "population              int64\n",
       "suicides/100k pop     float64\n",
       "country-year           object\n",
       "HDI for year          float64\n",
       " gdp_for_year ($)      object\n",
       "gdp_per_capita ($)      int64\n",
       "generation             object\n",
       "dtype: object"
      ]
     },
     "execution_count": 416,
     "metadata": {},
     "output_type": "execute_result"
    }
   ],
   "source": [
    "df.dtypes"
   ]
  },
  {
   "cell_type": "code",
   "execution_count": 417,
   "id": "ec48b52e",
   "metadata": {},
   "outputs": [
    {
     "data": {
      "text/plain": [
       "country                   0\n",
       "year                      0\n",
       "sex                       0\n",
       "age                       0\n",
       "suicides_no               0\n",
       "population                0\n",
       "suicides/100k pop         0\n",
       "country-year              0\n",
       "HDI for year          19456\n",
       " gdp_for_year ($)         0\n",
       "gdp_per_capita ($)        0\n",
       "generation                0\n",
       "dtype: int64"
      ]
     },
     "execution_count": 417,
     "metadata": {},
     "output_type": "execute_result"
    }
   ],
   "source": [
    "df.isnull().sum()"
   ]
  },
  {
   "cell_type": "code",
   "execution_count": 418,
   "id": "f4e3990d",
   "metadata": {},
   "outputs": [
    {
     "data": {
      "text/plain": [
       "country                0.000000\n",
       "year                   0.000000\n",
       "sex                    0.000000\n",
       "age                    0.000000\n",
       "suicides_no            0.000000\n",
       "population             0.000000\n",
       "suicides/100k pop      0.000000\n",
       "country-year           0.000000\n",
       "HDI for year          69.935298\n",
       " gdp_for_year ($)      0.000000\n",
       "gdp_per_capita ($)     0.000000\n",
       "generation             0.000000\n",
       "dtype: float64"
      ]
     },
     "execution_count": 418,
     "metadata": {},
     "output_type": "execute_result"
    }
   ],
   "source": [
    "df.isnull().sum()/len(df)*100\n",
    "# we can see that HDI for year has 70% of Null values, so we need to drop it"
   ]
  },
  {
   "cell_type": "code",
   "execution_count": 419,
   "id": "8a8d6ce2",
   "metadata": {
    "scrolled": false
   },
   "outputs": [
    {
     "data": {
      "text/plain": [
       "<AxesSubplot:>"
      ]
     },
     "execution_count": 419,
     "metadata": {},
     "output_type": "execute_result"
    },
    {
     "data": {
      "image/png": "[encoded data removed]",
      "text/plain": [
       "<Figure size 1080x720 with 1 Axes>"
      ]
     },
     "metadata": {
      "needs_background": "light"
     },
     "output_type": "display_data"
    }
   ],
   "source": [
    "plt.figure(figsize=(15,10))\n",
    "sns.boxplot(data=df)"
   ]
  },
  {
   "cell_type": "code",
   "execution_count": 420,
   "id": "584f202b",
   "metadata": {},
   "outputs": [],
   "source": [
    "df_num = df.select_dtypes(include=np.number)"
   ]
  },
  {
   "cell_type": "code",
   "execution_count": 421,
   "id": "792c2915",
   "metadata": {},
   "outputs": [
    {
     "data": {
      "image/png": "[encoded data removed]",
      "text/plain": [
       "<Figure size 432x288 with 6 Axes>"
      ]
     },
     "metadata": {
      "needs_background": "light"
     },
     "output_type": "display_data"
    }
   ],
   "source": [
    "fig, axes = plt.subplots(3,2,constrained_layout=True)\n",
    "for i ,sp in zip(range(5),axes.flatten()):\n",
    "    sns.boxplot(df_num.iloc[:,i],ax=sp)\n",
    "plt.show()"
   ]
  },
  {
   "cell_type": "code",
   "execution_count": 422,
   "id": "ce838402",
   "metadata": {},
   "outputs": [],
   "source": [
    "# there are outliers present in all the columns and we are not treating them as it will lead to data manupulation."
   ]
  },
  {
   "cell_type": "code",
   "execution_count": 423,
   "id": "147aa389",
   "metadata": {},
   "outputs": [
    {
     "data": {
      "text/plain": [
       "2,15,66,24,900       12\n",
       "96,04,56,45,026      12\n",
       "27,11,66,35,600      12\n",
       "29,44,02,87,600      12\n",
       "34,68,62,24,300      12\n",
       "                     ..\n",
       "3,90,79,99,91,147    10\n",
       "51,33,85,24,831      10\n",
       "1,25,81,66,40,421    10\n",
       "10,54,61,35,160      10\n",
       "11,18,34,58,131      10\n",
       "Name:  gdp_for_year ($) , Length: 2321, dtype: int64"
      ]
     },
     "execution_count": 423,
     "metadata": {},
     "output_type": "execute_result"
    }
   ],
   "source": [
    "df[' gdp_for_year ($) '].value_counts() # it is a redundant column "
   ]
  },
  {
   "cell_type": "code",
   "execution_count": 424,
   "id": "422f90b0",
   "metadata": {},
   "outputs": [],
   "source": [
    "# so we drop the HDI for year column for our analysis\n",
    "# we dont need columns 'country-year' as it is a dublicate column and ' gdp_for_year ($) ' as it is not required\n",
    "# we dont need Generation also is age column also represents the same data.\n",
    "df.drop(['country-year','HDI for year',' gdp_for_year ($) ','generation'],axis = 1,inplace=True)"
   ]
  },
  {
   "cell_type": "code",
   "execution_count": 425,
   "id": "ce6d6f7e",
   "metadata": {},
   "outputs": [
    {
     "data": {
      "text/html": [
       "<div>\n",
       "<style scoped>\n",
       "    .dataframe tbody tr th:only-of-type {\n",
       "        vertical-align: middle;\n",
       "    }\n",
       "\n",
       "    .dataframe tbody tr th {\n",
       "        vertical-align: top;\n",
       "    }\n",
       "\n",
       "    .dataframe thead th {\n",
       "        text-align: right;\n",
       "    }\n",
       "</style>\n",
       "<table border=\"1\" class=\"dataframe\">\n",
       "  <thead>\n",
       "    <tr style=\"text-align: right;\">\n",
       "      <th></th>\n",
       "      <th>country</th>\n",
       "      <th>year</th>\n",
       "      <th>sex</th>\n",
       "      <th>age</th>\n",
       "      <th>suicides_no</th>\n",
       "      <th>population</th>\n",
       "      <th>suicides/100k pop</th>\n",
       "      <th>gdp_per_capita ($)</th>\n",
       "    </tr>\n",
       "  </thead>\n",
       "  <tbody>\n",
       "    <tr>\n",
       "      <th>27815</th>\n",
       "      <td>Uzbekistan</td>\n",
       "      <td>2014</td>\n",
       "      <td>female</td>\n",
       "      <td>35-54 years</td>\n",
       "      <td>107</td>\n",
       "      <td>3620833</td>\n",
       "      <td>2.96</td>\n",
       "      <td>2309</td>\n",
       "    </tr>\n",
       "    <tr>\n",
       "      <th>27816</th>\n",
       "      <td>Uzbekistan</td>\n",
       "      <td>2014</td>\n",
       "      <td>female</td>\n",
       "      <td>75+ years</td>\n",
       "      <td>9</td>\n",
       "      <td>348465</td>\n",
       "      <td>2.58</td>\n",
       "      <td>2309</td>\n",
       "    </tr>\n",
       "    <tr>\n",
       "      <th>27817</th>\n",
       "      <td>Uzbekistan</td>\n",
       "      <td>2014</td>\n",
       "      <td>male</td>\n",
       "      <td>5-14 years</td>\n",
       "      <td>60</td>\n",
       "      <td>2762158</td>\n",
       "      <td>2.17</td>\n",
       "      <td>2309</td>\n",
       "    </tr>\n",
       "    <tr>\n",
       "      <th>27818</th>\n",
       "      <td>Uzbekistan</td>\n",
       "      <td>2014</td>\n",
       "      <td>female</td>\n",
       "      <td>5-14 years</td>\n",
       "      <td>44</td>\n",
       "      <td>2631600</td>\n",
       "      <td>1.67</td>\n",
       "      <td>2309</td>\n",
       "    </tr>\n",
       "    <tr>\n",
       "      <th>27819</th>\n",
       "      <td>Uzbekistan</td>\n",
       "      <td>2014</td>\n",
       "      <td>female</td>\n",
       "      <td>55-74 years</td>\n",
       "      <td>21</td>\n",
       "      <td>1438935</td>\n",
       "      <td>1.46</td>\n",
       "      <td>2309</td>\n",
       "    </tr>\n",
       "  </tbody>\n",
       "</table>\n",
       "</div>"
      ],
      "text/plain": [
       "          country  year     sex          age  suicides_no  population  \\\n",
       "27815  Uzbekistan  2014  female  35-54 years          107     3620833   \n",
       "27816  Uzbekistan  2014  female    75+ years            9      348465   \n",
       "27817  Uzbekistan  2014    male   5-14 years           60     2762158   \n",
       "27818  Uzbekistan  2014  female   5-14 years           44     2631600   \n",
       "27819  Uzbekistan  2014  female  55-74 years           21     1438935   \n",
       "\n",
       "       suicides/100k pop  gdp_per_capita ($)  \n",
       "27815               2.96                2309  \n",
       "27816               2.58                2309  \n",
       "27817               2.17                2309  \n",
       "27818               1.67                2309  \n",
       "27819               1.46                2309  "
      ]
     },
     "execution_count": 425,
     "metadata": {},
     "output_type": "execute_result"
    }
   ],
   "source": [
    "df.tail()"
   ]
  },
  {
   "cell_type": "code",
   "execution_count": 426,
   "id": "2b62d198",
   "metadata": {},
   "outputs": [
    {
     "data": {
      "text/plain": [
       "15-24 years    4642\n",
       "35-54 years    4642\n",
       "75+ years      4642\n",
       "25-34 years    4642\n",
       "55-74 years    4642\n",
       "5-14 years     4610\n",
       "Name: age, dtype: int64"
      ]
     },
     "execution_count": 426,
     "metadata": {},
     "output_type": "execute_result"
    }
   ],
   "source": [
    "df['age'].value_counts()"
   ]
  },
  {
   "cell_type": "code",
   "execution_count": 427,
   "id": "9c019ae1",
   "metadata": {},
   "outputs": [
    {
     "data": {
      "text/plain": [
       "Index(['15-24 years', '35-54 years', '75+ years', '25-34 years', '55-74 years',\n",
       "       '5-14 years'],\n",
       "      dtype='object')"
      ]
     },
     "execution_count": 427,
     "metadata": {},
     "output_type": "execute_result"
    }
   ],
   "source": [
    "a=df['age'].value_counts().index\n",
    "a"
   ]
  },
  {
   "cell_type": "code",
   "execution_count": 428,
   "id": "58c4d114",
   "metadata": {},
   "outputs": [],
   "source": [
    "# as age is a object column and we rename the age values with appropriate names\n",
    "df['age'].replace(a,['young_adults','middle age','senior citizens','adults','old age','kids'],inplace=True)\n",
    "\n",
    "# we are replacing  \n",
    "# 5- 14 kids\n",
    "# 15- 24 young adults\n",
    "# 25- 34 adults\n",
    "# 34- 54 middle age\n",
    "# 55-74 old age\n",
    "# 75+ senior citizens"
   ]
  },
  {
   "cell_type": "code",
   "execution_count": 429,
   "id": "f4dbe6be",
   "metadata": {},
   "outputs": [
    {
     "data": {
      "text/plain": [
       "Index(['young_adults', 'middle age', 'senior citizens', 'adults', 'old age',\n",
       "       'kids'],\n",
       "      dtype='object')"
      ]
     },
     "execution_count": 429,
     "metadata": {},
     "output_type": "execute_result"
    }
   ],
   "source": [
    "df['age'].value_counts().index"
   ]
  },
  {
   "cell_type": "code",
   "execution_count": 430,
   "id": "aba63c89",
   "metadata": {},
   "outputs": [
    {
     "data": {
      "text/html": [
       "<div>\n",
       "<style scoped>\n",
       "    .dataframe tbody tr th:only-of-type {\n",
       "        vertical-align: middle;\n",
       "    }\n",
       "\n",
       "    .dataframe tbody tr th {\n",
       "        vertical-align: top;\n",
       "    }\n",
       "\n",
       "    .dataframe thead th {\n",
       "        text-align: right;\n",
       "    }\n",
       "</style>\n",
       "<table border=\"1\" class=\"dataframe\">\n",
       "  <thead>\n",
       "    <tr style=\"text-align: right;\">\n",
       "      <th></th>\n",
       "      <th>country</th>\n",
       "      <th>year</th>\n",
       "      <th>sex</th>\n",
       "      <th>age</th>\n",
       "      <th>suicides_no</th>\n",
       "      <th>population</th>\n",
       "      <th>suicides/100k pop</th>\n",
       "      <th>gdp_per_capita ($)</th>\n",
       "    </tr>\n",
       "  </thead>\n",
       "  <tbody>\n",
       "    <tr>\n",
       "      <th>0</th>\n",
       "      <td>Albania</td>\n",
       "      <td>1987</td>\n",
       "      <td>male</td>\n",
       "      <td>young_adults</td>\n",
       "      <td>21</td>\n",
       "      <td>312900</td>\n",
       "      <td>6.71</td>\n",
       "      <td>796</td>\n",
       "    </tr>\n",
       "    <tr>\n",
       "      <th>1</th>\n",
       "      <td>Albania</td>\n",
       "      <td>1987</td>\n",
       "      <td>male</td>\n",
       "      <td>middle age</td>\n",
       "      <td>16</td>\n",
       "      <td>308000</td>\n",
       "      <td>5.19</td>\n",
       "      <td>796</td>\n",
       "    </tr>\n",
       "    <tr>\n",
       "      <th>2</th>\n",
       "      <td>Albania</td>\n",
       "      <td>1987</td>\n",
       "      <td>female</td>\n",
       "      <td>young_adults</td>\n",
       "      <td>14</td>\n",
       "      <td>289700</td>\n",
       "      <td>4.83</td>\n",
       "      <td>796</td>\n",
       "    </tr>\n",
       "    <tr>\n",
       "      <th>3</th>\n",
       "      <td>Albania</td>\n",
       "      <td>1987</td>\n",
       "      <td>male</td>\n",
       "      <td>senior citizens</td>\n",
       "      <td>1</td>\n",
       "      <td>21800</td>\n",
       "      <td>4.59</td>\n",
       "      <td>796</td>\n",
       "    </tr>\n",
       "    <tr>\n",
       "      <th>4</th>\n",
       "      <td>Albania</td>\n",
       "      <td>1987</td>\n",
       "      <td>male</td>\n",
       "      <td>adults</td>\n",
       "      <td>9</td>\n",
       "      <td>274300</td>\n",
       "      <td>3.28</td>\n",
       "      <td>796</td>\n",
       "    </tr>\n",
       "  </tbody>\n",
       "</table>\n",
       "</div>"
      ],
      "text/plain": [
       "   country  year     sex              age  suicides_no  population  \\\n",
       "0  Albania  1987    male     young_adults           21      312900   \n",
       "1  Albania  1987    male       middle age           16      308000   \n",
       "2  Albania  1987  female     young_adults           14      289700   \n",
       "3  Albania  1987    male  senior citizens            1       21800   \n",
       "4  Albania  1987    male           adults            9      274300   \n",
       "\n",
       "   suicides/100k pop  gdp_per_capita ($)  \n",
       "0               6.71                 796  \n",
       "1               5.19                 796  \n",
       "2               4.83                 796  \n",
       "3               4.59                 796  \n",
       "4               3.28                 796  "
      ]
     },
     "execution_count": 430,
     "metadata": {},
     "output_type": "execute_result"
    }
   ],
   "source": [
    "df.head()"
   ]
  },
  {
   "cell_type": "code",
   "execution_count": 431,
   "id": "f3554533",
   "metadata": {},
   "outputs": [
    {
     "data": {
      "text/plain": [
       "False    27820\n",
       "dtype: int64"
      ]
     },
     "execution_count": 431,
     "metadata": {},
     "output_type": "execute_result"
    }
   ],
   "source": [
    "# checking for dublicate values\n",
    "df.duplicated().value_counts()\n",
    "# there are no dublicate values"
   ]
  },
  {
   "cell_type": "code",
   "execution_count": 432,
   "id": "c728bb70",
   "metadata": {},
   "outputs": [
    {
     "data": {
      "text/html": [
       "<div>\n",
       "<style scoped>\n",
       "    .dataframe tbody tr th:only-of-type {\n",
       "        vertical-align: middle;\n",
       "    }\n",
       "\n",
       "    .dataframe tbody tr th {\n",
       "        vertical-align: top;\n",
       "    }\n",
       "\n",
       "    .dataframe thead th {\n",
       "        text-align: right;\n",
       "    }\n",
       "</style>\n",
       "<table border=\"1\" class=\"dataframe\">\n",
       "  <thead>\n",
       "    <tr style=\"text-align: right;\">\n",
       "      <th></th>\n",
       "      <th>year</th>\n",
       "      <th>suicides_no</th>\n",
       "      <th>population</th>\n",
       "      <th>suicides/100k pop</th>\n",
       "      <th>gdp_per_capita ($)</th>\n",
       "    </tr>\n",
       "  </thead>\n",
       "  <tbody>\n",
       "    <tr>\n",
       "      <th>count</th>\n",
       "      <td>27820.000000</td>\n",
       "      <td>27820.000000</td>\n",
       "      <td>2.782000e+04</td>\n",
       "      <td>27820.000000</td>\n",
       "      <td>27820.000000</td>\n",
       "    </tr>\n",
       "    <tr>\n",
       "      <th>mean</th>\n",
       "      <td>2001.258375</td>\n",
       "      <td>242.574407</td>\n",
       "      <td>1.844794e+06</td>\n",
       "      <td>12.816097</td>\n",
       "      <td>16866.464414</td>\n",
       "    </tr>\n",
       "    <tr>\n",
       "      <th>std</th>\n",
       "      <td>8.469055</td>\n",
       "      <td>902.047917</td>\n",
       "      <td>3.911779e+06</td>\n",
       "      <td>18.961511</td>\n",
       "      <td>18887.576472</td>\n",
       "    </tr>\n",
       "    <tr>\n",
       "      <th>min</th>\n",
       "      <td>1985.000000</td>\n",
       "      <td>0.000000</td>\n",
       "      <td>2.780000e+02</td>\n",
       "      <td>0.000000</td>\n",
       "      <td>251.000000</td>\n",
       "    </tr>\n",
       "    <tr>\n",
       "      <th>25%</th>\n",
       "      <td>1995.000000</td>\n",
       "      <td>3.000000</td>\n",
       "      <td>9.749850e+04</td>\n",
       "      <td>0.920000</td>\n",
       "      <td>3447.000000</td>\n",
       "    </tr>\n",
       "    <tr>\n",
       "      <th>50%</th>\n",
       "      <td>2002.000000</td>\n",
       "      <td>25.000000</td>\n",
       "      <td>4.301500e+05</td>\n",
       "      <td>5.990000</td>\n",
       "      <td>9372.000000</td>\n",
       "    </tr>\n",
       "    <tr>\n",
       "      <th>75%</th>\n",
       "      <td>2008.000000</td>\n",
       "      <td>131.000000</td>\n",
       "      <td>1.486143e+06</td>\n",
       "      <td>16.620000</td>\n",
       "      <td>24874.000000</td>\n",
       "    </tr>\n",
       "    <tr>\n",
       "      <th>max</th>\n",
       "      <td>2016.000000</td>\n",
       "      <td>22338.000000</td>\n",
       "      <td>4.380521e+07</td>\n",
       "      <td>224.970000</td>\n",
       "      <td>126352.000000</td>\n",
       "    </tr>\n",
       "  </tbody>\n",
       "</table>\n",
       "</div>"
      ],
      "text/plain": [
       "               year   suicides_no    population  suicides/100k pop  \\\n",
       "count  27820.000000  27820.000000  2.782000e+04       27820.000000   \n",
       "mean    2001.258375    242.574407  1.844794e+06          12.816097   \n",
       "std        8.469055    902.047917  3.911779e+06          18.961511   \n",
       "min     1985.000000      0.000000  2.780000e+02           0.000000   \n",
       "25%     1995.000000      3.000000  9.749850e+04           0.920000   \n",
       "50%     2002.000000     25.000000  4.301500e+05           5.990000   \n",
       "75%     2008.000000    131.000000  1.486143e+06          16.620000   \n",
       "max     2016.000000  22338.000000  4.380521e+07         224.970000   \n",
       "\n",
       "       gdp_per_capita ($)  \n",
       "count        27820.000000  \n",
       "mean         16866.464414  \n",
       "std          18887.576472  \n",
       "min            251.000000  \n",
       "25%           3447.000000  \n",
       "50%           9372.000000  \n",
       "75%          24874.000000  \n",
       "max         126352.000000  "
      ]
     },
     "execution_count": 432,
     "metadata": {},
     "output_type": "execute_result"
    }
   ],
   "source": [
    "df.describe() # numerical columns description"
   ]
  },
  {
   "cell_type": "code",
   "execution_count": 433,
   "id": "c3b7f637",
   "metadata": {},
   "outputs": [
    {
     "data": {
      "text/html": [
       "<div>\n",
       "<style scoped>\n",
       "    .dataframe tbody tr th:only-of-type {\n",
       "        vertical-align: middle;\n",
       "    }\n",
       "\n",
       "    .dataframe tbody tr th {\n",
       "        vertical-align: top;\n",
       "    }\n",
       "\n",
       "    .dataframe thead th {\n",
       "        text-align: right;\n",
       "    }\n",
       "</style>\n",
       "<table border=\"1\" class=\"dataframe\">\n",
       "  <thead>\n",
       "    <tr style=\"text-align: right;\">\n",
       "      <th></th>\n",
       "      <th>country</th>\n",
       "      <th>sex</th>\n",
       "      <th>age</th>\n",
       "    </tr>\n",
       "  </thead>\n",
       "  <tbody>\n",
       "    <tr>\n",
       "      <th>count</th>\n",
       "      <td>27820</td>\n",
       "      <td>27820</td>\n",
       "      <td>27820</td>\n",
       "    </tr>\n",
       "    <tr>\n",
       "      <th>unique</th>\n",
       "      <td>101</td>\n",
       "      <td>2</td>\n",
       "      <td>6</td>\n",
       "    </tr>\n",
       "    <tr>\n",
       "      <th>top</th>\n",
       "      <td>Mauritius</td>\n",
       "      <td>male</td>\n",
       "      <td>young_adults</td>\n",
       "    </tr>\n",
       "    <tr>\n",
       "      <th>freq</th>\n",
       "      <td>382</td>\n",
       "      <td>13910</td>\n",
       "      <td>4642</td>\n",
       "    </tr>\n",
       "  </tbody>\n",
       "</table>\n",
       "</div>"
      ],
      "text/plain": [
       "          country    sex           age\n",
       "count       27820  27820         27820\n",
       "unique        101      2             6\n",
       "top     Mauritius   male  young_adults\n",
       "freq          382  13910          4642"
      ]
     },
     "execution_count": 433,
     "metadata": {},
     "output_type": "execute_result"
    }
   ],
   "source": [
    "df.describe(include='object') # categorical columns description"
   ]
  },
  {
   "cell_type": "code",
   "execution_count": 434,
   "id": "361c3260",
   "metadata": {},
   "outputs": [],
   "source": [
    "# Analysis"
   ]
  },
  {
   "cell_type": "code",
   "execution_count": 435,
   "id": "77a40e2c",
   "metadata": {},
   "outputs": [
    {
     "data": {
      "text/plain": [
       "<AxesSubplot:xlabel='year'>"
      ]
     },
     "execution_count": 435,
     "metadata": {},
     "output_type": "execute_result"
    },
    {
     "data": {
      "image/png": "[encoded data removed]",
      "text/plain": [
       "<Figure size 432x288 with 1 Axes>"
      ]
     },
     "metadata": {
      "needs_background": "light"
     },
     "output_type": "display_data"
    }
   ],
   "source": [
    "df['suicides_no'].groupby(df.year).sum().plot(kind='line')"
   ]
  },
  {
   "cell_type": "code",
   "execution_count": 436,
   "id": "5f1987f0",
   "metadata": {},
   "outputs": [],
   "source": [
    "# we can observe that no. of suicides increased around 1990 and it stayed high with a slight dip in 2005"
   ]
  },
  {
   "cell_type": "code",
   "execution_count": 437,
   "id": "9b8f5401",
   "metadata": {},
   "outputs": [
    {
     "data": {
      "text/plain": [
       "<AxesSubplot:xlabel='suicides_no', ylabel='sex'>"
      ]
     },
     "execution_count": 437,
     "metadata": {},
     "output_type": "execute_result"
    },
    {
     "data": {
      "image/png": "[encoded data removed]",
      "text/plain": [
       "<Figure size 432x288 with 1 Axes>"
      ]
     },
     "metadata": {
      "needs_background": "light"
     },
     "output_type": "display_data"
    }
   ],
   "source": [
    "sns.barplot(df['suicides_no'],df['sex'])"
   ]
  },
  {
   "cell_type": "code",
   "execution_count": 438,
   "id": "d4a00dff",
   "metadata": {},
   "outputs": [],
   "source": [
    "# we can observe that the number of suicides is more in males than females"
   ]
  },
  {
   "cell_type": "code",
   "execution_count": 439,
   "id": "dfb6cbb4",
   "metadata": {},
   "outputs": [
    {
     "data": {
      "image/png": "[encoded data removed]",
      "text/plain": [
       "<Figure size 2160x720 with 1 Axes>"
      ]
     },
     "metadata": {
      "needs_background": "light"
     },
     "output_type": "display_data"
    }
   ],
   "source": [
    "plt.figure(figsize=(30,10))\n",
    "sns.barplot(df['country'],df['suicides_no'])\n",
    "plt.xticks(rotation=90)\n",
    "plt.show()"
   ]
  },
  {
   "cell_type": "code",
   "execution_count": 440,
   "id": "8a6371c1",
   "metadata": {},
   "outputs": [
    {
     "data": {
      "text/plain": [
       "country\n",
       "Russian Federation    1209742\n",
       "United States         1034013\n",
       "Japan                  806902\n",
       "France                 329127\n",
       "Ukraine                319950\n",
       "Name: suicides_no, dtype: int64"
      ]
     },
     "execution_count": 440,
     "metadata": {},
     "output_type": "execute_result"
    }
   ],
   "source": [
    "# top 5 countries based on no of suicides\n",
    "df['suicides_no'].groupby(df.country).sum().sort_values(ascending=False).head()"
   ]
  },
  {
   "cell_type": "code",
   "execution_count": 441,
   "id": "5a5466df",
   "metadata": {},
   "outputs": [],
   "source": [
    "# we can observe that Russian Federation has the highest no of suicides followed by United States and Japan, France"
   ]
  },
  {
   "cell_type": "code",
   "execution_count": 442,
   "id": "476ca10b",
   "metadata": {},
   "outputs": [
    {
     "data": {
      "image/png": "[encoded data removed]",
      "text/plain": [
       "<Figure size 2160x720 with 1 Axes>"
      ]
     },
     "metadata": {
      "needs_background": "light"
     },
     "output_type": "display_data"
    }
   ],
   "source": [
    "plt.figure(figsize=(30,10))\n",
    "sns.barplot(df['country'],df['suicides/100k pop'])\n",
    "plt.xticks(rotation=90)\n",
    "plt.show()"
   ]
  },
  {
   "cell_type": "code",
   "execution_count": 443,
   "id": "4389301b",
   "metadata": {},
   "outputs": [
    {
     "data": {
      "text/plain": [
       "country\n",
       "Lithuania             40.415573\n",
       "Sri Lanka             35.295152\n",
       "Russian Federation    34.892377\n",
       "Hungary               32.761516\n",
       "Belarus               31.075913\n",
       "Name: suicides/100k pop, dtype: float64"
      ]
     },
     "execution_count": 443,
     "metadata": {},
     "output_type": "execute_result"
    }
   ],
   "source": [
    "# top 5 countries with suicides/100k pop\n",
    "df.groupby('country')['suicides/100k pop'].mean().sort_values(ascending=False).head()"
   ]
  },
  {
   "cell_type": "code",
   "execution_count": 444,
   "id": "be8354f7",
   "metadata": {},
   "outputs": [],
   "source": [
    "# we can observe that lithuania is the top country with respect to suicides/100k pop, followed by srilanka,russian "
   ]
  },
  {
   "cell_type": "code",
   "execution_count": 445,
   "id": "03497bad",
   "metadata": {},
   "outputs": [
    {
     "data": {
      "image/png": "[encoded data removed]",
      "text/plain": [
       "<Figure size 720x360 with 1 Axes>"
      ]
     },
     "metadata": {
      "needs_background": "light"
     },
     "output_type": "display_data"
    }
   ],
   "source": [
    "plt.figure(figsize=(10,5))\n",
    "sns.barplot(df['age'],df['suicides_no'])\n",
    "plt.show()\n",
    "# 5- 14 kids\n",
    "# 15- 24 young adults\n",
    "# 25- 34 adults\n",
    "# 34- 54 middle age\n",
    "# 55-74 old age\n",
    "# 75+ senior citizens"
   ]
  },
  {
   "cell_type": "code",
   "execution_count": 446,
   "id": "d7d37c1f",
   "metadata": {},
   "outputs": [],
   "source": [
    "# we ccan observe that middle_age(34- 54 years) has the highest no of suicides followed by old_age(55-74 years)"
   ]
  },
  {
   "cell_type": "code",
   "execution_count": 447,
   "id": "6dfa3054",
   "metadata": {},
   "outputs": [
    {
     "data": {
      "text/html": [
       "<div>\n",
       "<style scoped>\n",
       "    .dataframe tbody tr th:only-of-type {\n",
       "        vertical-align: middle;\n",
       "    }\n",
       "\n",
       "    .dataframe tbody tr th {\n",
       "        vertical-align: top;\n",
       "    }\n",
       "\n",
       "    .dataframe thead th {\n",
       "        text-align: right;\n",
       "    }\n",
       "</style>\n",
       "<table border=\"1\" class=\"dataframe\">\n",
       "  <thead>\n",
       "    <tr style=\"text-align: right;\">\n",
       "      <th></th>\n",
       "      <th>country</th>\n",
       "      <th>year</th>\n",
       "      <th>sex</th>\n",
       "      <th>age</th>\n",
       "      <th>suicides_no</th>\n",
       "      <th>population</th>\n",
       "      <th>suicides/100k pop</th>\n",
       "      <th>gdp_per_capita ($)</th>\n",
       "    </tr>\n",
       "  </thead>\n",
       "  <tbody>\n",
       "    <tr>\n",
       "      <th>27815</th>\n",
       "      <td>Uzbekistan</td>\n",
       "      <td>2014</td>\n",
       "      <td>female</td>\n",
       "      <td>middle age</td>\n",
       "      <td>107</td>\n",
       "      <td>3620833</td>\n",
       "      <td>2.96</td>\n",
       "      <td>2309</td>\n",
       "    </tr>\n",
       "    <tr>\n",
       "      <th>27816</th>\n",
       "      <td>Uzbekistan</td>\n",
       "      <td>2014</td>\n",
       "      <td>female</td>\n",
       "      <td>senior citizens</td>\n",
       "      <td>9</td>\n",
       "      <td>348465</td>\n",
       "      <td>2.58</td>\n",
       "      <td>2309</td>\n",
       "    </tr>\n",
       "    <tr>\n",
       "      <th>27817</th>\n",
       "      <td>Uzbekistan</td>\n",
       "      <td>2014</td>\n",
       "      <td>male</td>\n",
       "      <td>kids</td>\n",
       "      <td>60</td>\n",
       "      <td>2762158</td>\n",
       "      <td>2.17</td>\n",
       "      <td>2309</td>\n",
       "    </tr>\n",
       "    <tr>\n",
       "      <th>27818</th>\n",
       "      <td>Uzbekistan</td>\n",
       "      <td>2014</td>\n",
       "      <td>female</td>\n",
       "      <td>kids</td>\n",
       "      <td>44</td>\n",
       "      <td>2631600</td>\n",
       "      <td>1.67</td>\n",
       "      <td>2309</td>\n",
       "    </tr>\n",
       "    <tr>\n",
       "      <th>27819</th>\n",
       "      <td>Uzbekistan</td>\n",
       "      <td>2014</td>\n",
       "      <td>female</td>\n",
       "      <td>old age</td>\n",
       "      <td>21</td>\n",
       "      <td>1438935</td>\n",
       "      <td>1.46</td>\n",
       "      <td>2309</td>\n",
       "    </tr>\n",
       "  </tbody>\n",
       "</table>\n",
       "</div>"
      ],
      "text/plain": [
       "          country  year     sex              age  suicides_no  population  \\\n",
       "27815  Uzbekistan  2014  female       middle age          107     3620833   \n",
       "27816  Uzbekistan  2014  female  senior citizens            9      348465   \n",
       "27817  Uzbekistan  2014    male             kids           60     2762158   \n",
       "27818  Uzbekistan  2014  female             kids           44     2631600   \n",
       "27819  Uzbekistan  2014  female          old age           21     1438935   \n",
       "\n",
       "       suicides/100k pop  gdp_per_capita ($)  \n",
       "27815               2.96                2309  \n",
       "27816               2.58                2309  \n",
       "27817               2.17                2309  \n",
       "27818               1.67                2309  \n",
       "27819               1.46                2309  "
      ]
     },
     "execution_count": 447,
     "metadata": {},
     "output_type": "execute_result"
    }
   ],
   "source": [
    "df.tail()"
   ]
  },
  {
   "cell_type": "code",
   "execution_count": 448,
   "id": "33019a3e",
   "metadata": {
    "scrolled": false
   },
   "outputs": [
    {
     "data": {
      "text/plain": [
       "<AxesSubplot:xlabel='gdp_per_capita ($)', ylabel='suicides/100k pop'>"
      ]
     },
     "execution_count": 448,
     "metadata": {},
     "output_type": "execute_result"
    },
    {
     "data": {
      "image/png": "[encoded data removed]",
      "text/plain": [
       "<Figure size 1080x720 with 1 Axes>"
      ]
     },
     "metadata": {
      "needs_background": "light"
     },
     "output_type": "display_data"
    }
   ],
   "source": [
    "plt.figure(figsize=(15,10))\n",
    "sns.scatterplot(df['gdp_per_capita ($)'],df['suicides/100k pop'])"
   ]
  },
  {
   "cell_type": "code",
   "execution_count": 449,
   "id": "4c51b3b7",
   "metadata": {},
   "outputs": [],
   "source": [
    "# the GDP per capita and the Suicide per 100K have a strong negative correlation. \n",
    "# This means that when the GDP per capita decreases,the suicide rate increases.\n",
    "# It can be obsrved from the above scatter plot. "
   ]
  },
  {
   "cell_type": "code",
   "execution_count": 450,
   "id": "9ef8e809",
   "metadata": {},
   "outputs": [
    {
     "data": {
      "text/html": [
       "<div>\n",
       "<style scoped>\n",
       "    .dataframe tbody tr th:only-of-type {\n",
       "        vertical-align: middle;\n",
       "    }\n",
       "\n",
       "    .dataframe tbody tr th {\n",
       "        vertical-align: top;\n",
       "    }\n",
       "\n",
       "    .dataframe thead th {\n",
       "        text-align: right;\n",
       "    }\n",
       "</style>\n",
       "<table border=\"1\" class=\"dataframe\">\n",
       "  <thead>\n",
       "    <tr style=\"text-align: right;\">\n",
       "      <th></th>\n",
       "      <th>year</th>\n",
       "      <th>suicides_no</th>\n",
       "      <th>population</th>\n",
       "      <th>suicides/100k pop</th>\n",
       "      <th>gdp_per_capita ($)</th>\n",
       "    </tr>\n",
       "  </thead>\n",
       "  <tbody>\n",
       "    <tr>\n",
       "      <th>year</th>\n",
       "      <td>1.000000</td>\n",
       "      <td>-0.004546</td>\n",
       "      <td>0.008850</td>\n",
       "      <td>-0.039037</td>\n",
       "      <td>0.339134</td>\n",
       "    </tr>\n",
       "    <tr>\n",
       "      <th>suicides_no</th>\n",
       "      <td>-0.004546</td>\n",
       "      <td>1.000000</td>\n",
       "      <td>0.616162</td>\n",
       "      <td>0.306604</td>\n",
       "      <td>0.061330</td>\n",
       "    </tr>\n",
       "    <tr>\n",
       "      <th>population</th>\n",
       "      <td>0.008850</td>\n",
       "      <td>0.616162</td>\n",
       "      <td>1.000000</td>\n",
       "      <td>0.008285</td>\n",
       "      <td>0.081510</td>\n",
       "    </tr>\n",
       "    <tr>\n",
       "      <th>suicides/100k pop</th>\n",
       "      <td>-0.039037</td>\n",
       "      <td>0.306604</td>\n",
       "      <td>0.008285</td>\n",
       "      <td>1.000000</td>\n",
       "      <td>0.001785</td>\n",
       "    </tr>\n",
       "    <tr>\n",
       "      <th>gdp_per_capita ($)</th>\n",
       "      <td>0.339134</td>\n",
       "      <td>0.061330</td>\n",
       "      <td>0.081510</td>\n",
       "      <td>0.001785</td>\n",
       "      <td>1.000000</td>\n",
       "    </tr>\n",
       "  </tbody>\n",
       "</table>\n",
       "</div>"
      ],
      "text/plain": [
       "                        year  suicides_no  population  suicides/100k pop  \\\n",
       "year                1.000000    -0.004546    0.008850          -0.039037   \n",
       "suicides_no        -0.004546     1.000000    0.616162           0.306604   \n",
       "population          0.008850     0.616162    1.000000           0.008285   \n",
       "suicides/100k pop  -0.039037     0.306604    0.008285           1.000000   \n",
       "gdp_per_capita ($)  0.339134     0.061330    0.081510           0.001785   \n",
       "\n",
       "                    gdp_per_capita ($)  \n",
       "year                          0.339134  \n",
       "suicides_no                   0.061330  \n",
       "population                    0.081510  \n",
       "suicides/100k pop             0.001785  \n",
       "gdp_per_capita ($)            1.000000  "
      ]
     },
     "execution_count": 450,
     "metadata": {},
     "output_type": "execute_result"
    }
   ],
   "source": [
    "df.corr()"
   ]
  },
  {
   "cell_type": "code",
   "execution_count": 451,
   "id": "f4c427c2",
   "metadata": {},
   "outputs": [
    {
     "data": {
      "text/plain": [
       "<AxesSubplot:>"
      ]
     },
     "execution_count": 451,
     "metadata": {},
     "output_type": "execute_result"
    },
    {
     "data": {
      "image/png": "[encoded data removed]",
      "text/plain": [
       "<Figure size 432x288 with 2 Axes>"
      ]
     },
     "metadata": {
      "needs_background": "light"
     },
     "output_type": "display_data"
    }
   ],
   "source": [
    "sns.heatmap(df.corr(),annot=True)"
   ]
  },
  {
   "cell_type": "code",
   "execution_count": 452,
   "id": "7e1ed245",
   "metadata": {},
   "outputs": [
    {
     "data": {
      "text/html": [
       "<div>\n",
       "<style scoped>\n",
       "    .dataframe tbody tr th:only-of-type {\n",
       "        vertical-align: middle;\n",
       "    }\n",
       "\n",
       "    .dataframe tbody tr th {\n",
       "        vertical-align: top;\n",
       "    }\n",
       "\n",
       "    .dataframe thead th {\n",
       "        text-align: right;\n",
       "    }\n",
       "</style>\n",
       "<table border=\"1\" class=\"dataframe\">\n",
       "  <thead>\n",
       "    <tr style=\"text-align: right;\">\n",
       "      <th></th>\n",
       "      <th>country</th>\n",
       "      <th>year</th>\n",
       "      <th>sex</th>\n",
       "      <th>age</th>\n",
       "      <th>suicides_no</th>\n",
       "      <th>population</th>\n",
       "      <th>suicides/100k pop</th>\n",
       "      <th>gdp_per_capita ($)</th>\n",
       "    </tr>\n",
       "  </thead>\n",
       "  <tbody>\n",
       "    <tr>\n",
       "      <th>0</th>\n",
       "      <td>Albania</td>\n",
       "      <td>1987</td>\n",
       "      <td>male</td>\n",
       "      <td>young_adults</td>\n",
       "      <td>21</td>\n",
       "      <td>312900</td>\n",
       "      <td>6.71</td>\n",
       "      <td>796</td>\n",
       "    </tr>\n",
       "    <tr>\n",
       "      <th>1</th>\n",
       "      <td>Albania</td>\n",
       "      <td>1987</td>\n",
       "      <td>male</td>\n",
       "      <td>middle age</td>\n",
       "      <td>16</td>\n",
       "      <td>308000</td>\n",
       "      <td>5.19</td>\n",
       "      <td>796</td>\n",
       "    </tr>\n",
       "    <tr>\n",
       "      <th>2</th>\n",
       "      <td>Albania</td>\n",
       "      <td>1987</td>\n",
       "      <td>female</td>\n",
       "      <td>young_adults</td>\n",
       "      <td>14</td>\n",
       "      <td>289700</td>\n",
       "      <td>4.83</td>\n",
       "      <td>796</td>\n",
       "    </tr>\n",
       "    <tr>\n",
       "      <th>3</th>\n",
       "      <td>Albania</td>\n",
       "      <td>1987</td>\n",
       "      <td>male</td>\n",
       "      <td>senior citizens</td>\n",
       "      <td>1</td>\n",
       "      <td>21800</td>\n",
       "      <td>4.59</td>\n",
       "      <td>796</td>\n",
       "    </tr>\n",
       "    <tr>\n",
       "      <th>4</th>\n",
       "      <td>Albania</td>\n",
       "      <td>1987</td>\n",
       "      <td>male</td>\n",
       "      <td>adults</td>\n",
       "      <td>9</td>\n",
       "      <td>274300</td>\n",
       "      <td>3.28</td>\n",
       "      <td>796</td>\n",
       "    </tr>\n",
       "  </tbody>\n",
       "</table>\n",
       "</div>"
      ],
      "text/plain": [
       "   country  year     sex              age  suicides_no  population  \\\n",
       "0  Albania  1987    male     young_adults           21      312900   \n",
       "1  Albania  1987    male       middle age           16      308000   \n",
       "2  Albania  1987  female     young_adults           14      289700   \n",
       "3  Albania  1987    male  senior citizens            1       21800   \n",
       "4  Albania  1987    male           adults            9      274300   \n",
       "\n",
       "   suicides/100k pop  gdp_per_capita ($)  \n",
       "0               6.71                 796  \n",
       "1               5.19                 796  \n",
       "2               4.83                 796  \n",
       "3               4.59                 796  \n",
       "4               3.28                 796  "
      ]
     },
     "execution_count": 452,
     "metadata": {},
     "output_type": "execute_result"
    }
   ],
   "source": [
    "df.head()"
   ]
  },
  {
   "cell_type": "code",
   "execution_count": 453,
   "id": "3a752a2e",
   "metadata": {},
   "outputs": [
    {
     "data": {
      "text/plain": [
       "array(['Albania', 'Antigua and Barbuda', 'Argentina', 'Armenia', 'Aruba',\n",
       "       'Australia', 'Austria', 'Azerbaijan', 'Bahamas', 'Bahrain',\n",
       "       'Barbados', 'Belarus', 'Belgium', 'Belize',\n",
       "       'Bosnia and Herzegovina', 'Brazil', 'Bulgaria', 'Cabo Verde',\n",
       "       'Canada', 'Chile', 'Colombia', 'Costa Rica', 'Croatia', 'Cuba',\n",
       "       'Cyprus', 'Czech Republic', 'Denmark', 'Dominica', 'Ecuador',\n",
       "       'El Salvador', 'Estonia', 'Fiji', 'Finland', 'France', 'Georgia',\n",
       "       'Germany', 'Greece', 'Grenada', 'Guatemala', 'Guyana', 'Hungary',\n",
       "       'Iceland', 'Ireland', 'Israel', 'Italy', 'Jamaica', 'Japan',\n",
       "       'Kazakhstan', 'Kiribati', 'Kuwait', 'Kyrgyzstan', 'Latvia',\n",
       "       'Lithuania', 'Luxembourg', 'Macau', 'Maldives', 'Malta',\n",
       "       'Mauritius', 'Mexico', 'Mongolia', 'Montenegro', 'Netherlands',\n",
       "       'New Zealand', 'Nicaragua', 'Norway', 'Oman', 'Panama', 'Paraguay',\n",
       "       'Philippines', 'Poland', 'Portugal', 'Puerto Rico', 'Qatar',\n",
       "       'Republic of Korea', 'Romania', 'Russian Federation',\n",
       "       'Saint Kitts and Nevis', 'Saint Lucia',\n",
       "       'Saint Vincent and Grenadines', 'San Marino', 'Serbia',\n",
       "       'Seychelles', 'Singapore', 'Slovakia', 'Slovenia', 'South Africa',\n",
       "       'Spain', 'Sri Lanka', 'Suriname', 'Sweden', 'Switzerland',\n",
       "       'Thailand', 'Trinidad and Tobago', 'Turkey', 'Turkmenistan',\n",
       "       'Ukraine', 'United Arab Emirates', 'United Kingdom',\n",
       "       'United States', 'Uruguay', 'Uzbekistan'], dtype=object)"
      ]
     },
     "execution_count": 453,
     "metadata": {},
     "output_type": "execute_result"
    }
   ],
   "source": [
    "df['country'].unique()"
   ]
  },
  {
   "cell_type": "code",
   "execution_count": 454,
   "id": "81e6980e",
   "metadata": {},
   "outputs": [],
   "source": [
    "# we are binning the countries according to their continents"
   ]
  },
  {
   "cell_type": "code",
   "execution_count": 455,
   "id": "176e2060",
   "metadata": {},
   "outputs": [],
   "source": [
    "df.country.replace(['Azerbaijan','Bahrain','Belarus','Belgium','Georgia','Israel','Japan','Kazakhstan','Kuwait','Kyrgyzstan','Macau',\n",
    "        'Maldives','Mongolia','Oman','Uzbekistan','United Arab Emirates','Turkmenistan','Thailand','Sri Lanka','Singapore',\n",
    "        'Republic of Korea','Qatar','Philippines'],'asia',inplace=True)\n",
    "df.country.replace(['United States','Saint Vincent and Grenadines','Saint Kitts and Nevis','Qatar','Puerto Rico',\n",
    "                'Antigua and Barbuda','Bahamas','Barbados','Belize','Canada','Costa Rica','Cuba','Dominica','El Salvador',\n",
    "                'Grenada','Guatemala','Jamaica','Mexico','Nicaragua','Panama'],'northamerica',inplace=True)\n",
    "df.country.replace(['Uruguay','Trinidad and Tobago','Suriname','Saint Lucia','Argentina','Aruba','Brazil','Chile','Colombia',\n",
    "                'Ecuador','Guyana','Norway','Paraguay'],'southamerica',inplace=True)\n",
    "df.country.replace(['South Africa','Seychelles','Cabo Verde','Mauritius'],'africa',inplace=True)\n",
    "df.country.replace(['United Kingdom','Ukraine','Turkey','Switzerland','Sweden','Spain','Slovenia','Slovakia','Serbia','San Marino',\n",
    "          'Romania','Portugal','Poland','Albania','Armenia','Austria','Bosnia and Herzegovina','Bulgaria','Croatia',\n",
    "          'Cyprus','Czech Republic','Denmark','Estonia','Finland','France','Germany','Greece','Hungary','Iceland',\n",
    "          'Ireland','Italy','Latvia','Lithuania','Luxembourg','Malta','Montenegro','Netherlands'],'europe',inplace=True)\n",
    "df.country.replace(['Australia','Fiji','Kiribati','New Zealand'],'australia',inplace=True)"
   ]
  },
  {
   "cell_type": "code",
   "execution_count": 456,
   "id": "931eb408",
   "metadata": {},
   "outputs": [
    {
     "data": {
      "text/plain": [
       "array(['europe', 'northamerica', 'southamerica', 'australia', 'asia',\n",
       "       'africa', 'Russian Federation'], dtype=object)"
      ]
     },
     "execution_count": 456,
     "metadata": {},
     "output_type": "execute_result"
    }
   ],
   "source": [
    "df['country'].unique()\n",
    "# checking values in countries column"
   ]
  },
  {
   "cell_type": "code",
   "execution_count": 457,
   "id": "2242bcbf",
   "metadata": {},
   "outputs": [
    {
     "data": {
      "text/html": [
       "<div>\n",
       "<style scoped>\n",
       "    .dataframe tbody tr th:only-of-type {\n",
       "        vertical-align: middle;\n",
       "    }\n",
       "\n",
       "    .dataframe tbody tr th {\n",
       "        vertical-align: top;\n",
       "    }\n",
       "\n",
       "    .dataframe thead th {\n",
       "        text-align: right;\n",
       "    }\n",
       "</style>\n",
       "<table border=\"1\" class=\"dataframe\">\n",
       "  <thead>\n",
       "    <tr style=\"text-align: right;\">\n",
       "      <th></th>\n",
       "      <th>country</th>\n",
       "      <th>year</th>\n",
       "      <th>sex</th>\n",
       "      <th>age</th>\n",
       "      <th>suicides_no</th>\n",
       "      <th>population</th>\n",
       "      <th>suicides/100k pop</th>\n",
       "      <th>gdp_per_capita ($)</th>\n",
       "    </tr>\n",
       "  </thead>\n",
       "  <tbody>\n",
       "    <tr>\n",
       "      <th>0</th>\n",
       "      <td>europe</td>\n",
       "      <td>1987</td>\n",
       "      <td>male</td>\n",
       "      <td>young_adults</td>\n",
       "      <td>21</td>\n",
       "      <td>312900</td>\n",
       "      <td>6.71</td>\n",
       "      <td>796</td>\n",
       "    </tr>\n",
       "    <tr>\n",
       "      <th>1</th>\n",
       "      <td>europe</td>\n",
       "      <td>1987</td>\n",
       "      <td>male</td>\n",
       "      <td>middle age</td>\n",
       "      <td>16</td>\n",
       "      <td>308000</td>\n",
       "      <td>5.19</td>\n",
       "      <td>796</td>\n",
       "    </tr>\n",
       "    <tr>\n",
       "      <th>2</th>\n",
       "      <td>europe</td>\n",
       "      <td>1987</td>\n",
       "      <td>female</td>\n",
       "      <td>young_adults</td>\n",
       "      <td>14</td>\n",
       "      <td>289700</td>\n",
       "      <td>4.83</td>\n",
       "      <td>796</td>\n",
       "    </tr>\n",
       "    <tr>\n",
       "      <th>3</th>\n",
       "      <td>europe</td>\n",
       "      <td>1987</td>\n",
       "      <td>male</td>\n",
       "      <td>senior citizens</td>\n",
       "      <td>1</td>\n",
       "      <td>21800</td>\n",
       "      <td>4.59</td>\n",
       "      <td>796</td>\n",
       "    </tr>\n",
       "    <tr>\n",
       "      <th>4</th>\n",
       "      <td>europe</td>\n",
       "      <td>1987</td>\n",
       "      <td>male</td>\n",
       "      <td>adults</td>\n",
       "      <td>9</td>\n",
       "      <td>274300</td>\n",
       "      <td>3.28</td>\n",
       "      <td>796</td>\n",
       "    </tr>\n",
       "  </tbody>\n",
       "</table>\n",
       "</div>"
      ],
      "text/plain": [
       "  country  year     sex              age  suicides_no  population  \\\n",
       "0  europe  1987    male     young_adults           21      312900   \n",
       "1  europe  1987    male       middle age           16      308000   \n",
       "2  europe  1987  female     young_adults           14      289700   \n",
       "3  europe  1987    male  senior citizens            1       21800   \n",
       "4  europe  1987    male           adults            9      274300   \n",
       "\n",
       "   suicides/100k pop  gdp_per_capita ($)  \n",
       "0               6.71                 796  \n",
       "1               5.19                 796  \n",
       "2               4.83                 796  \n",
       "3               4.59                 796  \n",
       "4               3.28                 796  "
      ]
     },
     "execution_count": 457,
     "metadata": {},
     "output_type": "execute_result"
    }
   ],
   "source": [
    "df.head()"
   ]
  },
  {
   "cell_type": "code",
   "execution_count": 458,
   "id": "8241efd8",
   "metadata": {},
   "outputs": [
    {
     "data": {
      "text/plain": [
       "country                object\n",
       "year                    int64\n",
       "sex                    object\n",
       "age                    object\n",
       "suicides_no             int64\n",
       "population              int64\n",
       "suicides/100k pop     float64\n",
       "gdp_per_capita ($)      int64\n",
       "dtype: object"
      ]
     },
     "execution_count": 458,
     "metadata": {},
     "output_type": "execute_result"
    }
   ],
   "source": [
    "df.dtypes"
   ]
  },
  {
   "cell_type": "code",
   "execution_count": 459,
   "id": "15af37fe",
   "metadata": {},
   "outputs": [
    {
     "data": {
      "image/png": "[encoded data removed]",
      "text/plain": [
       "<Figure size 720x720 with 1 Axes>"
      ]
     },
     "metadata": {
      "needs_background": "light"
     },
     "output_type": "display_data"
    }
   ],
   "source": [
    "plt.figure(figsize=(10,10))\n",
    "sns.barplot(df['country'],df['suicides/100k pop'])\n",
    "plt.show()\n",
    "# we plot a bocplot of regions with sucide per 100k"
   ]
  },
  {
   "cell_type": "code",
   "execution_count": 460,
   "id": "e3eaee9a",
   "metadata": {},
   "outputs": [],
   "source": [
    "# encoding of categorical column using get_dummies\n",
    "df=pd.get_dummies(data=df,columns=['country','sex','age'],drop_first=True)"
   ]
  },
  {
   "cell_type": "code",
   "execution_count": 461,
   "id": "acc7fc21",
   "metadata": {},
   "outputs": [
    {
     "data": {
      "text/html": [
       "<div>\n",
       "<style scoped>\n",
       "    .dataframe tbody tr th:only-of-type {\n",
       "        vertical-align: middle;\n",
       "    }\n",
       "\n",
       "    .dataframe tbody tr th {\n",
       "        vertical-align: top;\n",
       "    }\n",
       "\n",
       "    .dataframe thead th {\n",
       "        text-align: right;\n",
       "    }\n",
       "</style>\n",
       "<table border=\"1\" class=\"dataframe\">\n",
       "  <thead>\n",
       "    <tr style=\"text-align: right;\">\n",
       "      <th></th>\n",
       "      <th>year</th>\n",
       "      <th>suicides_no</th>\n",
       "      <th>population</th>\n",
       "      <th>suicides/100k pop</th>\n",
       "      <th>gdp_per_capita ($)</th>\n",
       "      <th>country_africa</th>\n",
       "      <th>country_asia</th>\n",
       "      <th>country_australia</th>\n",
       "      <th>country_europe</th>\n",
       "      <th>country_northamerica</th>\n",
       "      <th>country_southamerica</th>\n",
       "      <th>sex_male</th>\n",
       "      <th>age_kids</th>\n",
       "      <th>age_middle age</th>\n",
       "      <th>age_old age</th>\n",
       "      <th>age_senior citizens</th>\n",
       "      <th>age_young_adults</th>\n",
       "    </tr>\n",
       "  </thead>\n",
       "  <tbody>\n",
       "    <tr>\n",
       "      <th>0</th>\n",
       "      <td>1987</td>\n",
       "      <td>21</td>\n",
       "      <td>312900</td>\n",
       "      <td>6.71</td>\n",
       "      <td>796</td>\n",
       "      <td>0</td>\n",
       "      <td>0</td>\n",
       "      <td>0</td>\n",
       "      <td>1</td>\n",
       "      <td>0</td>\n",
       "      <td>0</td>\n",
       "      <td>1</td>\n",
       "      <td>0</td>\n",
       "      <td>0</td>\n",
       "      <td>0</td>\n",
       "      <td>0</td>\n",
       "      <td>1</td>\n",
       "    </tr>\n",
       "    <tr>\n",
       "      <th>1</th>\n",
       "      <td>1987</td>\n",
       "      <td>16</td>\n",
       "      <td>308000</td>\n",
       "      <td>5.19</td>\n",
       "      <td>796</td>\n",
       "      <td>0</td>\n",
       "      <td>0</td>\n",
       "      <td>0</td>\n",
       "      <td>1</td>\n",
       "      <td>0</td>\n",
       "      <td>0</td>\n",
       "      <td>1</td>\n",
       "      <td>0</td>\n",
       "      <td>1</td>\n",
       "      <td>0</td>\n",
       "      <td>0</td>\n",
       "      <td>0</td>\n",
       "    </tr>\n",
       "    <tr>\n",
       "      <th>2</th>\n",
       "      <td>1987</td>\n",
       "      <td>14</td>\n",
       "      <td>289700</td>\n",
       "      <td>4.83</td>\n",
       "      <td>796</td>\n",
       "      <td>0</td>\n",
       "      <td>0</td>\n",
       "      <td>0</td>\n",
       "      <td>1</td>\n",
       "      <td>0</td>\n",
       "      <td>0</td>\n",
       "      <td>0</td>\n",
       "      <td>0</td>\n",
       "      <td>0</td>\n",
       "      <td>0</td>\n",
       "      <td>0</td>\n",
       "      <td>1</td>\n",
       "    </tr>\n",
       "    <tr>\n",
       "      <th>3</th>\n",
       "      <td>1987</td>\n",
       "      <td>1</td>\n",
       "      <td>21800</td>\n",
       "      <td>4.59</td>\n",
       "      <td>796</td>\n",
       "      <td>0</td>\n",
       "      <td>0</td>\n",
       "      <td>0</td>\n",
       "      <td>1</td>\n",
       "      <td>0</td>\n",
       "      <td>0</td>\n",
       "      <td>1</td>\n",
       "      <td>0</td>\n",
       "      <td>0</td>\n",
       "      <td>0</td>\n",
       "      <td>1</td>\n",
       "      <td>0</td>\n",
       "    </tr>\n",
       "    <tr>\n",
       "      <th>4</th>\n",
       "      <td>1987</td>\n",
       "      <td>9</td>\n",
       "      <td>274300</td>\n",
       "      <td>3.28</td>\n",
       "      <td>796</td>\n",
       "      <td>0</td>\n",
       "      <td>0</td>\n",
       "      <td>0</td>\n",
       "      <td>1</td>\n",
       "      <td>0</td>\n",
       "      <td>0</td>\n",
       "      <td>1</td>\n",
       "      <td>0</td>\n",
       "      <td>0</td>\n",
       "      <td>0</td>\n",
       "      <td>0</td>\n",
       "      <td>0</td>\n",
       "    </tr>\n",
       "  </tbody>\n",
       "</table>\n",
       "</div>"
      ],
      "text/plain": [
       "   year  suicides_no  population  suicides/100k pop  gdp_per_capita ($)  \\\n",
       "0  1987           21      312900               6.71                 796   \n",
       "1  1987           16      308000               5.19                 796   \n",
       "2  1987           14      289700               4.83                 796   \n",
       "3  1987            1       21800               4.59                 796   \n",
       "4  1987            9      274300               3.28                 796   \n",
       "\n",
       "   country_africa  country_asia  country_australia  country_europe  \\\n",
       "0               0             0                  0               1   \n",
       "1               0             0                  0               1   \n",
       "2               0             0                  0               1   \n",
       "3               0             0                  0               1   \n",
       "4               0             0                  0               1   \n",
       "\n",
       "   country_northamerica  country_southamerica  sex_male  age_kids  \\\n",
       "0                     0                     0         1         0   \n",
       "1                     0                     0         1         0   \n",
       "2                     0                     0         0         0   \n",
       "3                     0                     0         1         0   \n",
       "4                     0                     0         1         0   \n",
       "\n",
       "   age_middle age  age_old age  age_senior citizens  age_young_adults  \n",
       "0               0            0                    0                 1  \n",
       "1               1            0                    0                 0  \n",
       "2               0            0                    0                 1  \n",
       "3               0            0                    1                 0  \n",
       "4               0            0                    0                 0  "
      ]
     },
     "execution_count": 461,
     "metadata": {},
     "output_type": "execute_result"
    }
   ],
   "source": [
    "df.head()"
   ]
  },
  {
   "cell_type": "code",
   "execution_count": 462,
   "id": "24718b16",
   "metadata": {},
   "outputs": [],
   "source": [
    "x=df.drop('suicides/100k pop',axis=1)  # we separate the x(independent) and y(dependent) columns \n",
    "y=df['suicides/100k pop']\n",
    "x=sm.add_constant(x)   "
   ]
  },
  {
   "cell_type": "code",
   "execution_count": 463,
   "id": "ca1f436d",
   "metadata": {},
   "outputs": [],
   "source": [
    "# we split the data into train and test in 70:30 ratio\n",
    "xtrain,xtest,ytrain,ytest=train_test_split(x,y,test_size=.3,random_state=1)"
   ]
  },
  {
   "cell_type": "code",
   "execution_count": 464,
   "id": "a8250c52",
   "metadata": {},
   "outputs": [
    {
     "data": {
      "text/html": [
       "<table class=\"simpletable\">\n",
       "<caption>OLS Regression Results</caption>\n",
       "<tr>\n",
       "  <th>Dep. Variable:</th>    <td>suicides/100k pop</td> <th>  R-squared:         </th> <td>   0.395</td> \n",
       "</tr>\n",
       "<tr>\n",
       "  <th>Model:</th>                   <td>OLS</td>        <th>  Adj. R-squared:    </th> <td>   0.395</td> \n",
       "</tr>\n",
       "<tr>\n",
       "  <th>Method:</th>             <td>Least Squares</td>   <th>  F-statistic:       </th> <td>   795.4</td> \n",
       "</tr>\n",
       "<tr>\n",
       "  <th>Date:</th>             <td>Thu, 05 May 2022</td>  <th>  Prob (F-statistic):</th>  <td>  0.00</td>  \n",
       "</tr>\n",
       "<tr>\n",
       "  <th>Time:</th>                 <td>22:05:20</td>      <th>  Log-Likelihood:    </th> <td> -80037.</td> \n",
       "</tr>\n",
       "<tr>\n",
       "  <th>No. Observations:</th>      <td> 19474</td>       <th>  AIC:               </th> <td>1.601e+05</td>\n",
       "</tr>\n",
       "<tr>\n",
       "  <th>Df Residuals:</th>          <td> 19457</td>       <th>  BIC:               </th> <td>1.602e+05</td>\n",
       "</tr>\n",
       "<tr>\n",
       "  <th>Df Model:</th>              <td>    16</td>       <th>                     </th>     <td> </td>    \n",
       "</tr>\n",
       "<tr>\n",
       "  <th>Covariance Type:</th>      <td>nonrobust</td>     <th>                     </th>     <td> </td>    \n",
       "</tr>\n",
       "</table>\n",
       "<table class=\"simpletable\">\n",
       "<tr>\n",
       "            <td></td>              <th>coef</th>     <th>std err</th>      <th>t</th>      <th>P>|t|</th>  <th>[0.025</th>    <th>0.975]</th>  \n",
       "</tr>\n",
       "<tr>\n",
       "  <th>const</th>                <td>  185.4768</td> <td>   26.675</td> <td>    6.953</td> <td> 0.000</td> <td>  133.193</td> <td>  237.761</td>\n",
       "</tr>\n",
       "<tr>\n",
       "  <th>year</th>                 <td>   -0.0867</td> <td>    0.013</td> <td>   -6.512</td> <td> 0.000</td> <td>   -0.113</td> <td>   -0.061</td>\n",
       "</tr>\n",
       "<tr>\n",
       "  <th>suicides_no</th>          <td>    0.0066</td> <td>    0.000</td> <td>   40.030</td> <td> 0.000</td> <td>    0.006</td> <td>    0.007</td>\n",
       "</tr>\n",
       "<tr>\n",
       "  <th>population</th>           <td>-7.092e-07</td> <td> 3.56e-08</td> <td>  -19.902</td> <td> 0.000</td> <td>-7.79e-07</td> <td>-6.39e-07</td>\n",
       "</tr>\n",
       "<tr>\n",
       "  <th>gdp_per_capita ($)</th>   <td>-3.228e-05</td> <td> 6.24e-06</td> <td>   -5.176</td> <td> 0.000</td> <td>-4.45e-05</td> <td>-2.01e-05</td>\n",
       "</tr>\n",
       "<tr>\n",
       "  <th>country_africa</th>       <td>  -11.2612</td> <td>    1.240</td> <td>   -9.083</td> <td> 0.000</td> <td>  -13.691</td> <td>   -8.831</td>\n",
       "</tr>\n",
       "<tr>\n",
       "  <th>country_asia</th>         <td>   -5.7822</td> <td>    1.100</td> <td>   -5.257</td> <td> 0.000</td> <td>   -7.938</td> <td>   -3.626</td>\n",
       "</tr>\n",
       "<tr>\n",
       "  <th>country_australia</th>    <td>   -7.5014</td> <td>    1.228</td> <td>   -6.108</td> <td> 0.000</td> <td>   -9.908</td> <td>   -5.094</td>\n",
       "</tr>\n",
       "<tr>\n",
       "  <th>country_europe</th>       <td>   -2.9931</td> <td>    1.097</td> <td>   -2.728</td> <td> 0.006</td> <td>   -5.144</td> <td>   -0.842</td>\n",
       "</tr>\n",
       "<tr>\n",
       "  <th>country_northamerica</th> <td>  -12.1146</td> <td>    1.100</td> <td>  -11.012</td> <td> 0.000</td> <td>  -14.271</td> <td>   -9.958</td>\n",
       "</tr>\n",
       "<tr>\n",
       "  <th>country_southamerica</th> <td>   -6.8947</td> <td>    1.114</td> <td>   -6.190</td> <td> 0.000</td> <td>   -9.078</td> <td>   -4.711</td>\n",
       "</tr>\n",
       "<tr>\n",
       "  <th>sex_male</th>             <td>   13.1132</td> <td>    0.216</td> <td>   60.687</td> <td> 0.000</td> <td>   12.690</td> <td>   13.537</td>\n",
       "</tr>\n",
       "<tr>\n",
       "  <th>age_kids</th>             <td>   -9.9216</td> <td>    0.370</td> <td>  -26.841</td> <td> 0.000</td> <td>  -10.646</td> <td>   -9.197</td>\n",
       "</tr>\n",
       "<tr>\n",
       "  <th>age_middle age</th>       <td>    1.8767</td> <td>    0.367</td> <td>    5.110</td> <td> 0.000</td> <td>    1.157</td> <td>    2.597</td>\n",
       "</tr>\n",
       "<tr>\n",
       "  <th>age_old age</th>          <td>    3.2784</td> <td>    0.368</td> <td>    8.920</td> <td> 0.000</td> <td>    2.558</td> <td>    3.999</td>\n",
       "</tr>\n",
       "<tr>\n",
       "  <th>age_senior citizens</th>  <td>   11.6428</td> <td>    0.367</td> <td>   31.696</td> <td> 0.000</td> <td>   10.923</td> <td>   12.363</td>\n",
       "</tr>\n",
       "<tr>\n",
       "  <th>age_young_adults</th>     <td>   -2.5943</td> <td>    0.367</td> <td>   -7.073</td> <td> 0.000</td> <td>   -3.313</td> <td>   -1.875</td>\n",
       "</tr>\n",
       "</table>\n",
       "<table class=\"simpletable\">\n",
       "<tr>\n",
       "  <th>Omnibus:</th>       <td>12117.557</td> <th>  Durbin-Watson:     </th>  <td>   1.998</td> \n",
       "</tr>\n",
       "<tr>\n",
       "  <th>Prob(Omnibus):</th>  <td> 0.000</td>   <th>  Jarque-Bera (JB):  </th> <td>214161.089</td>\n",
       "</tr>\n",
       "<tr>\n",
       "  <th>Skew:</th>           <td> 2.694</td>   <th>  Prob(JB):          </th>  <td>    0.00</td> \n",
       "</tr>\n",
       "<tr>\n",
       "  <th>Kurtosis:</th>       <td>18.327</td>   <th>  Cond. No.          </th>  <td>1.08e+09</td> \n",
       "</tr>\n",
       "</table><br/><br/>Notes:<br/>[1] Standard Errors assume that the covariance matrix of the errors is correctly specified.<br/>[2] The condition number is large, 1.08e+09. This might indicate that there are<br/>strong multicollinearity or other numerical problems."
      ],
      "text/plain": [
       "<class 'statsmodels.iolib.summary.Summary'>\n",
       "\"\"\"\n",
       "                            OLS Regression Results                            \n",
       "==============================================================================\n",
       "Dep. Variable:      suicides/100k pop   R-squared:                       0.395\n",
       "Model:                            OLS   Adj. R-squared:                  0.395\n",
       "Method:                 Least Squares   F-statistic:                     795.4\n",
       "Date:                Thu, 05 May 2022   Prob (F-statistic):               0.00\n",
       "Time:                        22:05:20   Log-Likelihood:                -80037.\n",
       "No. Observations:               19474   AIC:                         1.601e+05\n",
       "Df Residuals:                   19457   BIC:                         1.602e+05\n",
       "Df Model:                          16                                         \n",
       "Covariance Type:            nonrobust                                         \n",
       "========================================================================================\n",
       "                           coef    std err          t      P>|t|      [0.025      0.975]\n",
       "----------------------------------------------------------------------------------------\n",
       "const                  185.4768     26.675      6.953      0.000     133.193     237.761\n",
       "year                    -0.0867      0.013     -6.512      0.000      -0.113      -0.061\n",
       "suicides_no              0.0066      0.000     40.030      0.000       0.006       0.007\n",
       "population           -7.092e-07   3.56e-08    -19.902      0.000   -7.79e-07   -6.39e-07\n",
       "gdp_per_capita ($)   -3.228e-05   6.24e-06     -5.176      0.000   -4.45e-05   -2.01e-05\n",
       "country_africa         -11.2612      1.240     -9.083      0.000     -13.691      -8.831\n",
       "country_asia            -5.7822      1.100     -5.257      0.000      -7.938      -3.626\n",
       "country_australia       -7.5014      1.228     -6.108      0.000      -9.908      -5.094\n",
       "country_europe          -2.9931      1.097     -2.728      0.006      -5.144      -0.842\n",
       "country_northamerica   -12.1146      1.100    -11.012      0.000     -14.271      -9.958\n",
       "country_southamerica    -6.8947      1.114     -6.190      0.000      -9.078      -4.711\n",
       "sex_male                13.1132      0.216     60.687      0.000      12.690      13.537\n",
       "age_kids                -9.9216      0.370    -26.841      0.000     -10.646      -9.197\n",
       "age_middle age           1.8767      0.367      5.110      0.000       1.157       2.597\n",
       "age_old age              3.2784      0.368      8.920      0.000       2.558       3.999\n",
       "age_senior citizens     11.6428      0.367     31.696      0.000      10.923      12.363\n",
       "age_young_adults        -2.5943      0.367     -7.073      0.000      -3.313      -1.875\n",
       "==============================================================================\n",
       "Omnibus:                    12117.557   Durbin-Watson:                   1.998\n",
       "Prob(Omnibus):                  0.000   Jarque-Bera (JB):           214161.089\n",
       "Skew:                           2.694   Prob(JB):                         0.00\n",
       "Kurtosis:                      18.327   Cond. No.                     1.08e+09\n",
       "==============================================================================\n",
       "\n",
       "Notes:\n",
       "[1] Standard Errors assume that the covariance matrix of the errors is correctly specified.\n",
       "[2] The condition number is large, 1.08e+09. This might indicate that there are\n",
       "strong multicollinearity or other numerical problems.\n",
       "\"\"\""
      ]
     },
     "execution_count": 464,
     "metadata": {},
     "output_type": "execute_result"
    }
   ],
   "source": [
    "# we build a base model using ols \n",
    "model=sm.OLS(ytrain,xtrain).fit()\n",
    "model.summary()"
   ]
  },
  {
   "cell_type": "code",
   "execution_count": 470,
   "id": "b64d88f2",
   "metadata": {},
   "outputs": [],
   "source": [
    "# we can observe that all the columns are significant "
   ]
  },
  {
   "cell_type": "code",
   "execution_count": 471,
   "id": "e673f300",
   "metadata": {},
   "outputs": [
    {
     "data": {
      "text/html": [
       "<div>\n",
       "<style scoped>\n",
       "    .dataframe tbody tr th:only-of-type {\n",
       "        vertical-align: middle;\n",
       "    }\n",
       "\n",
       "    .dataframe tbody tr th {\n",
       "        vertical-align: top;\n",
       "    }\n",
       "\n",
       "    .dataframe thead th {\n",
       "        text-align: right;\n",
       "    }\n",
       "</style>\n",
       "<table border=\"1\" class=\"dataframe\">\n",
       "  <thead>\n",
       "    <tr style=\"text-align: right;\">\n",
       "      <th></th>\n",
       "      <th>year</th>\n",
       "      <th>suicides_no</th>\n",
       "      <th>population</th>\n",
       "      <th>gdp_per_capita ($)</th>\n",
       "    </tr>\n",
       "  </thead>\n",
       "  <tbody>\n",
       "    <tr>\n",
       "      <th>5473</th>\n",
       "      <td>2002</td>\n",
       "      <td>101</td>\n",
       "      <td>2055488</td>\n",
       "      <td>4866</td>\n",
       "    </tr>\n",
       "    <tr>\n",
       "      <th>3737</th>\n",
       "      <td>2009</td>\n",
       "      <td>34</td>\n",
       "      <td>646252</td>\n",
       "      <td>47630</td>\n",
       "    </tr>\n",
       "    <tr>\n",
       "      <th>17600</th>\n",
       "      <td>1997</td>\n",
       "      <td>5</td>\n",
       "      <td>115700</td>\n",
       "      <td>19041</td>\n",
       "    </tr>\n",
       "    <tr>\n",
       "      <th>25259</th>\n",
       "      <td>2012</td>\n",
       "      <td>222</td>\n",
       "      <td>5145957</td>\n",
       "      <td>6584</td>\n",
       "    </tr>\n",
       "    <tr>\n",
       "      <th>27529</th>\n",
       "      <td>2013</td>\n",
       "      <td>15</td>\n",
       "      <td>255905</td>\n",
       "      <td>18179</td>\n",
       "    </tr>\n",
       "  </tbody>\n",
       "</table>\n",
       "</div>"
      ],
      "text/plain": [
       "       year  suicides_no  population  gdp_per_capita ($)\n",
       "5473   2002          101     2055488                4866\n",
       "3737   2009           34      646252               47630\n",
       "17600  1997            5      115700               19041\n",
       "25259  2012          222     5145957                6584\n",
       "27529  2013           15      255905               18179"
      ]
     },
     "execution_count": 471,
     "metadata": {},
     "output_type": "execute_result"
    }
   ],
   "source": [
    "xtrain.iloc[:,1:5].head() \n",
    "# we separate the numerical columns from the dataset"
   ]
  },
  {
   "cell_type": "code",
   "execution_count": 472,
   "id": "1fa06562",
   "metadata": {},
   "outputs": [],
   "source": [
    "# Scalling\n",
    "# We do MinMax scalling\n",
    "from sklearn.preprocessing import MinMaxScaler\n",
    "MM=MinMaxScaler()\n",
    "xtrain.iloc[:,1:5]=MM.fit_transform(xtrain.iloc[:,1:5])\n",
    "xtest.iloc[:,1:5]=MM.transform(xtest.iloc[:,1:5])"
   ]
  },
  {
   "cell_type": "code",
   "execution_count": 473,
   "id": "4309741b",
   "metadata": {},
   "outputs": [
    {
     "data": {
      "text/html": [
       "<div>\n",
       "<style scoped>\n",
       "    .dataframe tbody tr th:only-of-type {\n",
       "        vertical-align: middle;\n",
       "    }\n",
       "\n",
       "    .dataframe tbody tr th {\n",
       "        vertical-align: top;\n",
       "    }\n",
       "\n",
       "    .dataframe thead th {\n",
       "        text-align: right;\n",
       "    }\n",
       "</style>\n",
       "<table border=\"1\" class=\"dataframe\">\n",
       "  <thead>\n",
       "    <tr style=\"text-align: right;\">\n",
       "      <th></th>\n",
       "      <th>const</th>\n",
       "      <th>year</th>\n",
       "      <th>suicides_no</th>\n",
       "      <th>population</th>\n",
       "      <th>gdp_per_capita ($)</th>\n",
       "      <th>country_africa</th>\n",
       "      <th>country_asia</th>\n",
       "      <th>country_australia</th>\n",
       "      <th>country_europe</th>\n",
       "      <th>country_northamerica</th>\n",
       "      <th>country_southamerica</th>\n",
       "      <th>sex_male</th>\n",
       "      <th>age_kids</th>\n",
       "      <th>age_middle age</th>\n",
       "      <th>age_old age</th>\n",
       "      <th>age_senior citizens</th>\n",
       "      <th>age_young_adults</th>\n",
       "    </tr>\n",
       "  </thead>\n",
       "  <tbody>\n",
       "    <tr>\n",
       "      <th>5473</th>\n",
       "      <td>1.0</td>\n",
       "      <td>0.548387</td>\n",
       "      <td>0.004521</td>\n",
       "      <td>0.046917</td>\n",
       "      <td>0.036598</td>\n",
       "      <td>0</td>\n",
       "      <td>0</td>\n",
       "      <td>0</td>\n",
       "      <td>0</td>\n",
       "      <td>0</td>\n",
       "      <td>1</td>\n",
       "      <td>0</td>\n",
       "      <td>0</td>\n",
       "      <td>1</td>\n",
       "      <td>0</td>\n",
       "      <td>0</td>\n",
       "      <td>0</td>\n",
       "    </tr>\n",
       "    <tr>\n",
       "      <th>3737</th>\n",
       "      <td>1.0</td>\n",
       "      <td>0.774194</td>\n",
       "      <td>0.001522</td>\n",
       "      <td>0.014746</td>\n",
       "      <td>0.375723</td>\n",
       "      <td>0</td>\n",
       "      <td>1</td>\n",
       "      <td>0</td>\n",
       "      <td>0</td>\n",
       "      <td>0</td>\n",
       "      <td>0</td>\n",
       "      <td>0</td>\n",
       "      <td>0</td>\n",
       "      <td>0</td>\n",
       "      <td>0</td>\n",
       "      <td>0</td>\n",
       "      <td>1</td>\n",
       "    </tr>\n",
       "    <tr>\n",
       "      <th>17600</th>\n",
       "      <td>1.0</td>\n",
       "      <td>0.387097</td>\n",
       "      <td>0.000224</td>\n",
       "      <td>0.002635</td>\n",
       "      <td>0.149008</td>\n",
       "      <td>0</td>\n",
       "      <td>0</td>\n",
       "      <td>1</td>\n",
       "      <td>0</td>\n",
       "      <td>0</td>\n",
       "      <td>0</td>\n",
       "      <td>0</td>\n",
       "      <td>0</td>\n",
       "      <td>0</td>\n",
       "      <td>0</td>\n",
       "      <td>1</td>\n",
       "      <td>0</td>\n",
       "    </tr>\n",
       "    <tr>\n",
       "      <th>25259</th>\n",
       "      <td>1.0</td>\n",
       "      <td>0.870968</td>\n",
       "      <td>0.009938</td>\n",
       "      <td>0.117468</td>\n",
       "      <td>0.050222</td>\n",
       "      <td>0</td>\n",
       "      <td>1</td>\n",
       "      <td>0</td>\n",
       "      <td>0</td>\n",
       "      <td>0</td>\n",
       "      <td>0</td>\n",
       "      <td>0</td>\n",
       "      <td>0</td>\n",
       "      <td>0</td>\n",
       "      <td>1</td>\n",
       "      <td>0</td>\n",
       "      <td>0</td>\n",
       "    </tr>\n",
       "    <tr>\n",
       "      <th>27529</th>\n",
       "      <td>1.0</td>\n",
       "      <td>0.903226</td>\n",
       "      <td>0.000672</td>\n",
       "      <td>0.005835</td>\n",
       "      <td>0.142172</td>\n",
       "      <td>0</td>\n",
       "      <td>0</td>\n",
       "      <td>0</td>\n",
       "      <td>0</td>\n",
       "      <td>0</td>\n",
       "      <td>1</td>\n",
       "      <td>0</td>\n",
       "      <td>0</td>\n",
       "      <td>0</td>\n",
       "      <td>0</td>\n",
       "      <td>0</td>\n",
       "      <td>1</td>\n",
       "    </tr>\n",
       "  </tbody>\n",
       "</table>\n",
       "</div>"
      ],
      "text/plain": [
       "       const      year  suicides_no  population  gdp_per_capita ($)  \\\n",
       "5473     1.0  0.548387     0.004521    0.046917            0.036598   \n",
       "3737     1.0  0.774194     0.001522    0.014746            0.375723   \n",
       "17600    1.0  0.387097     0.000224    0.002635            0.149008   \n",
       "25259    1.0  0.870968     0.009938    0.117468            0.050222   \n",
       "27529    1.0  0.903226     0.000672    0.005835            0.142172   \n",
       "\n",
       "       country_africa  country_asia  country_australia  country_europe  \\\n",
       "5473                0             0                  0               0   \n",
       "3737                0             1                  0               0   \n",
       "17600               0             0                  1               0   \n",
       "25259               0             1                  0               0   \n",
       "27529               0             0                  0               0   \n",
       "\n",
       "       country_northamerica  country_southamerica  sex_male  age_kids  \\\n",
       "5473                      0                     1         0         0   \n",
       "3737                      0                     0         0         0   \n",
       "17600                     0                     0         0         0   \n",
       "25259                     0                     0         0         0   \n",
       "27529                     0                     1         0         0   \n",
       "\n",
       "       age_middle age  age_old age  age_senior citizens  age_young_adults  \n",
       "5473                1            0                    0                 0  \n",
       "3737                0            0                    0                 1  \n",
       "17600               0            0                    1                 0  \n",
       "25259               0            1                    0                 0  \n",
       "27529               0            0                    0                 1  "
      ]
     },
     "execution_count": 473,
     "metadata": {},
     "output_type": "execute_result"
    }
   ],
   "source": [
    "xtrain.head()"
   ]
  },
  {
   "cell_type": "code",
   "execution_count": null,
   "id": "3442586a",
   "metadata": {},
   "outputs": [],
   "source": [
    "# Transformation"
   ]
  },
  {
   "cell_type": "code",
   "execution_count": 474,
   "id": "67be5304",
   "metadata": {},
   "outputs": [
    {
     "data": {
      "text/plain": [
       "2.963414476605633"
      ]
     },
     "execution_count": 474,
     "metadata": {},
     "output_type": "execute_result"
    }
   ],
   "source": [
    "y.skew() # we observe the skewness of the target variable"
   ]
  },
  {
   "cell_type": "code",
   "execution_count": 475,
   "id": "55c2d9a2",
   "metadata": {},
   "outputs": [
    {
     "data": {
      "text/plain": [
       "<AxesSubplot:xlabel='suicides/100k pop', ylabel='Density'>"
      ]
     },
     "execution_count": 475,
     "metadata": {},
     "output_type": "execute_result"
    },
    {
     "data": {
      "image/png": "[encoded data removed]",
      "text/plain": [
       "<Figure size 432x288 with 1 Axes>"
      ]
     },
     "metadata": {
      "needs_background": "light"
     },
     "output_type": "display_data"
    }
   ],
   "source": [
    "sns.distplot(y) # we plot a distplot of target variable"
   ]
  },
  {
   "cell_type": "code",
   "execution_count": 476,
   "id": "b6e48058",
   "metadata": {},
   "outputs": [
    {
     "data": {
      "text/plain": [
       "0.9500270544066147"
      ]
     },
     "execution_count": 476,
     "metadata": {},
     "output_type": "execute_result"
    }
   ],
   "source": [
    "np.sqrt(y).skew() # we do square root transformation\n",
    "# we observe that the skewness has reduced after transformation"
   ]
  },
  {
   "cell_type": "code",
   "execution_count": 477,
   "id": "55210228",
   "metadata": {},
   "outputs": [
    {
     "data": {
      "text/plain": [
       "<AxesSubplot:xlabel='suicides/100k pop', ylabel='Density'>"
      ]
     },
     "execution_count": 477,
     "metadata": {},
     "output_type": "execute_result"
    },
    {
     "data": {
      "image/png": "[encoded data removed]",
      "text/plain": [
       "<Figure size 432x288 with 1 Axes>"
      ]
     },
     "metadata": {
      "needs_background": "light"
     },
     "output_type": "display_data"
    }
   ],
   "source": [
    "sns.distplot(np.sqrt(y)) # we plot a distplot of the transformed target variable\n",
    "# after transformation the target variable has achieved is near normal distribution."
   ]
  },
  {
   "cell_type": "code",
   "execution_count": 478,
   "id": "4f78f1a3",
   "metadata": {},
   "outputs": [],
   "source": [
    "# sqrt transformation of the split data\n",
    "ytrain=np.sqrt(ytrain)\n",
    "ytest=np.sqrt(ytest)"
   ]
  },
  {
   "cell_type": "code",
   "execution_count": 479,
   "id": "e9255e4a",
   "metadata": {},
   "outputs": [
    {
     "data": {
      "text/html": [
       "<table class=\"simpletable\">\n",
       "<caption>OLS Regression Results</caption>\n",
       "<tr>\n",
       "  <th>Dep. Variable:</th>    <td>suicides/100k pop</td> <th>  R-squared:         </th> <td>   0.483</td> \n",
       "</tr>\n",
       "<tr>\n",
       "  <th>Model:</th>                   <td>OLS</td>        <th>  Adj. R-squared:    </th> <td>   0.483</td> \n",
       "</tr>\n",
       "<tr>\n",
       "  <th>Method:</th>             <td>Least Squares</td>   <th>  F-statistic:       </th> <td>   1136.</td> \n",
       "</tr>\n",
       "<tr>\n",
       "  <th>Date:</th>             <td>Thu, 05 May 2022</td>  <th>  Prob (F-statistic):</th>  <td>  0.00</td>  \n",
       "</tr>\n",
       "<tr>\n",
       "  <th>Time:</th>                 <td>22:05:21</td>      <th>  Log-Likelihood:    </th> <td> -37215.</td> \n",
       "</tr>\n",
       "<tr>\n",
       "  <th>No. Observations:</th>      <td> 19474</td>       <th>  AIC:               </th> <td>7.446e+04</td>\n",
       "</tr>\n",
       "<tr>\n",
       "  <th>Df Residuals:</th>          <td> 19457</td>       <th>  BIC:               </th> <td>7.460e+04</td>\n",
       "</tr>\n",
       "<tr>\n",
       "  <th>Df Model:</th>              <td>    16</td>       <th>                     </th>     <td> </td>    \n",
       "</tr>\n",
       "<tr>\n",
       "  <th>Covariance Type:</th>      <td>nonrobust</td>     <th>                     </th>     <td> </td>    \n",
       "</tr>\n",
       "</table>\n",
       "<table class=\"simpletable\">\n",
       "<tr>\n",
       "            <td></td>              <th>coef</th>     <th>std err</th>      <th>t</th>      <th>P>|t|</th>  <th>[0.025</th>    <th>0.975]</th>  \n",
       "</tr>\n",
       "<tr>\n",
       "  <th>const</th>                <td>    2.8215</td> <td>    0.126</td> <td>   22.460</td> <td> 0.000</td> <td>    2.575</td> <td>    3.068</td>\n",
       "</tr>\n",
       "<tr>\n",
       "  <th>year</th>                 <td>   -0.3774</td> <td>    0.046</td> <td>   -8.246</td> <td> 0.000</td> <td>   -0.467</td> <td>   -0.288</td>\n",
       "</tr>\n",
       "<tr>\n",
       "  <th>suicides_no</th>          <td>   13.6204</td> <td>    0.408</td> <td>   33.365</td> <td> 0.000</td> <td>   12.820</td> <td>   14.421</td>\n",
       "</tr>\n",
       "<tr>\n",
       "  <th>population</th>           <td>   -1.5404</td> <td>    0.173</td> <td>   -8.896</td> <td> 0.000</td> <td>   -1.880</td> <td>   -1.201</td>\n",
       "</tr>\n",
       "<tr>\n",
       "  <th>gdp_per_capita ($)</th>   <td>    0.0456</td> <td>    0.087</td> <td>    0.522</td> <td> 0.602</td> <td>   -0.125</td> <td>    0.217</td>\n",
       "</tr>\n",
       "<tr>\n",
       "  <th>country_africa</th>       <td>   -1.4096</td> <td>    0.138</td> <td>  -10.250</td> <td> 0.000</td> <td>   -1.679</td> <td>   -1.140</td>\n",
       "</tr>\n",
       "<tr>\n",
       "  <th>country_asia</th>         <td>   -0.5650</td> <td>    0.122</td> <td>   -4.630</td> <td> 0.000</td> <td>   -0.804</td> <td>   -0.326</td>\n",
       "</tr>\n",
       "<tr>\n",
       "  <th>country_australia</th>    <td>   -0.6032</td> <td>    0.136</td> <td>   -4.428</td> <td> 0.000</td> <td>   -0.870</td> <td>   -0.336</td>\n",
       "</tr>\n",
       "<tr>\n",
       "  <th>country_europe</th>       <td>   -0.1763</td> <td>    0.122</td> <td>   -1.449</td> <td> 0.147</td> <td>   -0.415</td> <td>    0.062</td>\n",
       "</tr>\n",
       "<tr>\n",
       "  <th>country_northamerica</th> <td>   -1.5806</td> <td>    0.122</td> <td>  -12.952</td> <td> 0.000</td> <td>   -1.820</td> <td>   -1.341</td>\n",
       "</tr>\n",
       "<tr>\n",
       "  <th>country_southamerica</th> <td>   -0.5686</td> <td>    0.124</td> <td>   -4.602</td> <td> 0.000</td> <td>   -0.811</td> <td>   -0.326</td>\n",
       "</tr>\n",
       "<tr>\n",
       "  <th>sex_male</th>             <td>    1.7109</td> <td>    0.024</td> <td>   71.380</td> <td> 0.000</td> <td>    1.664</td> <td>    1.758</td>\n",
       "</tr>\n",
       "<tr>\n",
       "  <th>age_kids</th>             <td>   -2.2167</td> <td>    0.041</td> <td>  -54.062</td> <td> 0.000</td> <td>   -2.297</td> <td>   -2.136</td>\n",
       "</tr>\n",
       "<tr>\n",
       "  <th>age_middle age</th>       <td>    0.2113</td> <td>    0.041</td> <td>    5.188</td> <td> 0.000</td> <td>    0.131</td> <td>    0.291</td>\n",
       "</tr>\n",
       "<tr>\n",
       "  <th>age_old age</th>          <td>    0.3451</td> <td>    0.041</td> <td>    8.465</td> <td> 0.000</td> <td>    0.265</td> <td>    0.425</td>\n",
       "</tr>\n",
       "<tr>\n",
       "  <th>age_senior citizens</th>  <td>    0.9314</td> <td>    0.041</td> <td>   22.860</td> <td> 0.000</td> <td>    0.852</td> <td>    1.011</td>\n",
       "</tr>\n",
       "<tr>\n",
       "  <th>age_young_adults</th>     <td>   -0.3237</td> <td>    0.041</td> <td>   -7.956</td> <td> 0.000</td> <td>   -0.403</td> <td>   -0.244</td>\n",
       "</tr>\n",
       "</table>\n",
       "<table class=\"simpletable\">\n",
       "<tr>\n",
       "  <th>Omnibus:</th>       <td>1116.161</td> <th>  Durbin-Watson:     </th> <td>   1.984</td>\n",
       "</tr>\n",
       "<tr>\n",
       "  <th>Prob(Omnibus):</th>  <td> 0.000</td>  <th>  Jarque-Bera (JB):  </th> <td>2872.865</td>\n",
       "</tr>\n",
       "<tr>\n",
       "  <th>Skew:</th>           <td> 0.329</td>  <th>  Prob(JB):          </th> <td>    0.00</td>\n",
       "</tr>\n",
       "<tr>\n",
       "  <th>Kurtosis:</th>       <td> 4.763</td>  <th>  Cond. No.          </th> <td>    53.5</td>\n",
       "</tr>\n",
       "</table><br/><br/>Notes:<br/>[1] Standard Errors assume that the covariance matrix of the errors is correctly specified."
      ],
      "text/plain": [
       "<class 'statsmodels.iolib.summary.Summary'>\n",
       "\"\"\"\n",
       "                            OLS Regression Results                            \n",
       "==============================================================================\n",
       "Dep. Variable:      suicides/100k pop   R-squared:                       0.483\n",
       "Model:                            OLS   Adj. R-squared:                  0.483\n",
       "Method:                 Least Squares   F-statistic:                     1136.\n",
       "Date:                Thu, 05 May 2022   Prob (F-statistic):               0.00\n",
       "Time:                        22:05:21   Log-Likelihood:                -37215.\n",
       "No. Observations:               19474   AIC:                         7.446e+04\n",
       "Df Residuals:                   19457   BIC:                         7.460e+04\n",
       "Df Model:                          16                                         \n",
       "Covariance Type:            nonrobust                                         \n",
       "========================================================================================\n",
       "                           coef    std err          t      P>|t|      [0.025      0.975]\n",
       "----------------------------------------------------------------------------------------\n",
       "const                    2.8215      0.126     22.460      0.000       2.575       3.068\n",
       "year                    -0.3774      0.046     -8.246      0.000      -0.467      -0.288\n",
       "suicides_no             13.6204      0.408     33.365      0.000      12.820      14.421\n",
       "population              -1.5404      0.173     -8.896      0.000      -1.880      -1.201\n",
       "gdp_per_capita ($)       0.0456      0.087      0.522      0.602      -0.125       0.217\n",
       "country_africa          -1.4096      0.138    -10.250      0.000      -1.679      -1.140\n",
       "country_asia            -0.5650      0.122     -4.630      0.000      -0.804      -0.326\n",
       "country_australia       -0.6032      0.136     -4.428      0.000      -0.870      -0.336\n",
       "country_europe          -0.1763      0.122     -1.449      0.147      -0.415       0.062\n",
       "country_northamerica    -1.5806      0.122    -12.952      0.000      -1.820      -1.341\n",
       "country_southamerica    -0.5686      0.124     -4.602      0.000      -0.811      -0.326\n",
       "sex_male                 1.7109      0.024     71.380      0.000       1.664       1.758\n",
       "age_kids                -2.2167      0.041    -54.062      0.000      -2.297      -2.136\n",
       "age_middle age           0.2113      0.041      5.188      0.000       0.131       0.291\n",
       "age_old age              0.3451      0.041      8.465      0.000       0.265       0.425\n",
       "age_senior citizens      0.9314      0.041     22.860      0.000       0.852       1.011\n",
       "age_young_adults        -0.3237      0.041     -7.956      0.000      -0.403      -0.244\n",
       "==============================================================================\n",
       "Omnibus:                     1116.161   Durbin-Watson:                   1.984\n",
       "Prob(Omnibus):                  0.000   Jarque-Bera (JB):             2872.865\n",
       "Skew:                           0.329   Prob(JB):                         0.00\n",
       "Kurtosis:                       4.763   Cond. No.                         53.5\n",
       "==============================================================================\n",
       "\n",
       "Notes:\n",
       "[1] Standard Errors assume that the covariance matrix of the errors is correctly specified.\n",
       "\"\"\""
      ]
     },
     "execution_count": 479,
     "metadata": {},
     "output_type": "execute_result"
    }
   ],
   "source": [
    "# we fit the final model using the transformed and scalled data\n",
    "fmodel=sm.OLS(ytrain,xtrain).fit()\n",
    "fmodel.summary()"
   ]
  },
  {
   "cell_type": "code",
   "execution_count": 482,
   "id": "3db61b21",
   "metadata": {},
   "outputs": [],
   "source": [
    "# after transformation and scalling the model performance has improved"
   ]
  }
 ],
 "metadata": {
  "kernelspec": {
   "display_name": "Python 3 (ipykernel)",
   "language": "python",
   "name": "python3"
  },
  "language_info": {
   "codemirror_mode": {
    "name": "ipython",
    "version": 3
   },
   "file_extension": ".py",
   "mimetype": "text/x-python",
   "name": "python",
   "nbconvert_exporter": "python",
   "pygments_lexer": "ipython3",
   "version": "3.9.7"
  }
 },
 "nbformat": 4,
 "nbformat_minor": 5
}
